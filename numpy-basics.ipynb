{
 "cells": [
  {
   "cell_type": "markdown",
   "id": "66e65bfa",
   "metadata": {},
   "source": [
    "## Duration:\n",
    "\n",
    "## Difficulty:\n",
    "\n",
    "## Prerequisites:"
   ]
  },
  {
   "cell_type": "markdown",
   "id": "991eb26a",
   "metadata": {},
   "source": [
    "<a name='0'></a>\n",
    "## Table of Content:\n",
    "\n",
    "- [1. Introduction to Numpy](#1)\n",
    "    - [1.1. What is Numpy and why it is essential for machine learning?](#1-1)\n",
    "    - [1.2. Installing Numpy and setting up the development environment](#1-2)\n",
    "- [2. Numpy Arrays](#2)\n",
    "    - [2.1. Creating Numpy arrays using np.array()](#2-1)\n",
    "    - [2.2. Understanding array shapes and dimensions](#2-2)\n",
    "    - [2.3. Analogy between Numpy arrays and mathematical data structures](#2-3)\n",
    "    - [2.4. Accessing and modifying array elements](#2-4)\n",
    "    - [2.5. Basic array operations (element-wise operations, broadcasting)](#2-5)\n",
    "- [3. Array Initialisation and Attributes](#3)\n",
    "    - [3.1. Creating arrays with specific values (np.zeros(), np.ones(), np.full(), etc.)](#3-1)\n",
    "    - [3.2. Generating arrays with a range of values (np.arange(), np.linspace(), etc.)](#3-2)\n",
    "    - [3.3. Array attributes (shape, size, data type, etc.)](#3-3)\n",
    "- [4. Array Operations](#4)\n",
    "    - [4.1. Mathematical operations with arrays (+, -, *, /, etc.)](#4-1)\n",
    "    - [4.2. Array aggregation functions (np.sum(), np.mean(), np.min(), np.max(), etc.)](#4-2)\n",
    "    - [4.3. Array transformations (np.reshape(), np.transpose(), etc.)](#4-3)\n",
    "- [5. Linear Algebra with Numpy](#5)\n",
    "    - [5.1. Matrix operations (np.dot(), np.matmul(), np.linalg.inv(), etc.)](#5-1)\n",
    "    - [5.2. Eigenvalues and eigenvectors (np.linalg.eig())](#5-2)\n",
    "    - [5.3. Solving linear equations (np.linalg.solve())](#5-3)\n",
    "\n",
    "\n",
    "\n",
    "\n",
    "\n",
    "\n",
    "\n",
    "\n",
    "    \n",
    "    "
   ]
  },
  {
   "cell_type": "markdown",
   "id": "9ebfe622",
   "metadata": {},
   "source": [
    "- Add a note that this tutorial is for educational purposes and it's not comprehensive or not replace the official documentation in anyway...\n",
    "- Add duration\n",
    "- Add level/difficulty"
   ]
  },
  {
   "cell_type": "markdown",
   "id": "3427ef1a",
   "metadata": {},
   "source": [
    "<a name='1'></a>\n",
    "# 1. Introduction to Numpy"
   ]
  },
  {
   "cell_type": "markdown",
   "id": "29e3d673",
   "metadata": {},
   "source": [
    "<a name='1-1'></a>\n",
    "## 1.1. What is Numpy and why it is essential for machine learning?\n",
    "\n",
    "`Numpy` is a powerful Python library that stands for _'Numerical Python'_. It provides support for large, multi-dimensional arrays and matrices, along with a vast collection of mathematical functions to operate on these arrays efficiently. \n",
    "\n",
    "`Numpy` is essential for machine learning because it enables fast and efficient numerical computations, making it possible to work with large datasets and perform complex mathematical operations with ease. Its ability to handle arrays and matrices efficiently allows for concise and optimized code implementations of various machine learning algorithms."
   ]
  },
  {
   "cell_type": "markdown",
   "id": "c0389d45",
   "metadata": {},
   "source": [
    "<a name='1-2'></a>\n",
    "## 1.2. Installing Numpy and setting up the development environment\n",
    "\n",
    "To get started with `Numpy`, we first need to install the library and set up our development environment. Follow the steps below to install `Numpy` and set up a Jupyter notebook:\n",
    "\n",
    "### Step 1: Install Numpy\n",
    "\n",
    "1. Open your command prompt or terminal (e.g., Press Command + Space Bar on your Mac keyboard and Type in “Terminal\").\n",
    "2. If you have Python installed, you can install `Numpy` by running the following command:\n",
    "`pip install numpy`. This command will download and install `Numpy` from the Python Package Index (PyPI).\n",
    "\n",
    "### Step 2: Set up Jupyter Notebook\n",
    "\n",
    "Jupyter Notebook is an interactive coding environment that allows you to create and share documents containing code, visualizations, and explanatory text. Here's how to set it up:\n",
    "\n",
    "1. Install Jupyter Notebook by running the following command in your command prompt or terminal: `pip install jupyter`\n",
    "2. Launch Jupyter Notebook by typing the following command and pressing Enter: `jupyter notebook`. This will open Jupyter Notebook in your default web browser.\n",
    "3. In the Jupyter Notebook interface, click on \"New\" and select \"Python 3\" to create a new Python notebook.\n",
    "\n",
    "### Step 3: Importing Numpy\n",
    "\n",
    "In your Jupyter notebook, you need to import the `Numpy` library before using its functions and features. To import Numpy, add the following line of code at the beginning of your notebook:\n",
    "\n",
    "**Note:** By convention, `Numpy` is often imported with the alias `np`, which allows us to use the shorthand notation `np` when referring to `Numpy` functions throughout our notebook.\n",
    "\n",
    "That's it! You have successfully installed `Numpy` and set up your Jupyter notebook environment. Now, you're ready to dive into the basics of `Numpy` and explore its powerful capabilities for machine learning."
   ]
  },
  {
   "cell_type": "markdown",
   "id": "9cd6ea23",
   "metadata": {},
   "source": [
    "<a name='2'></a>\n",
    "# 2. Numpy Arrays"
   ]
  },
  {
   "cell_type": "markdown",
   "id": "59833e11",
   "metadata": {},
   "source": [
    "`Numpy` arrays are the foundation of the `Numpy` library and provide a powerful way to store and manipulate data. In this section, we will explore various aspects of `Numpy` arrays, starting with creating arrays using the `np.array()` function."
   ]
  },
  {
   "cell_type": "markdown",
   "id": "e35a2f92",
   "metadata": {},
   "source": [
    "<a name='2-1'></a>\n",
    "### 2.1. Creating Numpy arrays using np.array()\n",
    "\n",
    "To create a `Numpy` array, you can use the `np.array()` function and provide a Python list or tuple as an argument. The `np.array()` function converts the input into a Numpy array. Here's an example:"
   ]
  },
  {
   "cell_type": "code",
   "execution_count": 10,
   "id": "f9101da9",
   "metadata": {},
   "outputs": [
    {
     "name": "stdout",
     "output_type": "stream",
     "text": [
      "[1 2 3 4 5]\n"
     ]
    }
   ],
   "source": [
    "# Create a Numpy array from a Python list\n",
    "my_list = [1, 2, 3, 4, 5]\n",
    "my_array = np.array(my_list)\n",
    "\n",
    "print(my_array)"
   ]
  },
  {
   "cell_type": "markdown",
   "id": "249863ba",
   "metadata": {},
   "source": [
    "In the example above, we created a `Numpy` array `my_array` from a Python list `my_list` using the `np.array()` function. The resulting `Numpy` array contains the same elements as the original list.\n",
    "\n",
    "`Numpy` arrays are homogeneous, meaning they can only contain elements of the same data type. If the elements in the input list have different data types, Numpy will attempt to convert them to a common data type. For example:"
   ]
  },
  {
   "cell_type": "code",
   "execution_count": 11,
   "id": "1219ce17",
   "metadata": {},
   "outputs": [
    {
     "name": "stdout",
     "output_type": "stream",
     "text": [
      "['1' '2.5' 'hello' 'True']\n"
     ]
    }
   ],
   "source": [
    "my_list = [1, 2.5, \"hello\", True]\n",
    "my_array = np.array(my_list)\n",
    "\n",
    "print(my_array)"
   ]
  },
  {
   "cell_type": "markdown",
   "id": "57df6b44",
   "metadata": {},
   "source": [
    "In this case, the elements in the input list have different data types (integer, float, string, and a boolean). `Numpy` converts all the elements to strings, resulting in a `Numpy` array of strings.\n",
    "\n",
    "It's important to note that `Numpy` arrays are fixed in size once created. If you try to append or remove elements from a Numpy array, a new array will be created with the updated elements. Therefore, Numpy arrays are not designed to be dynamically resizable like Python lists.\n",
    "\n",
    "That's it for creating `Numpy` arrays using the `np.array()` function."
   ]
  },
  {
   "cell_type": "markdown",
   "id": "10013f0e",
   "metadata": {},
   "source": [
    "<a name='2-2'></a>\n",
    "### 2.2. Understanding array shapes and dimensions"
   ]
  },
  {
   "cell_type": "markdown",
   "id": "990c642e",
   "metadata": {},
   "source": [
    "`Numpy` arrays can have different shapes and dimensions, which define the structure and size of the array. In this subsection, we will explore how to determine the shape and dimensions of a `Numpy` array."
   ]
  },
  {
   "cell_type": "markdown",
   "id": "7c816da2",
   "metadata": {},
   "source": [
    "#### Shape of an Array\n",
    "\n",
    "The shape of a `Numpy` array refers to the number of elements along each dimension of the array. You can access the shape of an array using the `shape` attribute. Here's an example:"
   ]
  },
  {
   "cell_type": "code",
   "execution_count": 12,
   "id": "a1b9c0ce",
   "metadata": {},
   "outputs": [
    {
     "name": "stdout",
     "output_type": "stream",
     "text": [
      "(2, 3)\n"
     ]
    }
   ],
   "source": [
    "my_array = np.array([[1, 2, 3], [4, 5, 6]])\n",
    "print(my_array.shape)"
   ]
  },
  {
   "cell_type": "markdown",
   "id": "6e6e09ce",
   "metadata": {},
   "source": [
    "In this example, my_array is a **2-dimensional** array with 2 rows and 3 columns. The shape attribute returns a tuple `(2, 3)` indicating the shape of the array.\n",
    "\n",
    "If you have a **1-dimensional** array, the shape will be a single number representing the size of the array. For example:"
   ]
  },
  {
   "cell_type": "code",
   "execution_count": 13,
   "id": "aed20eee",
   "metadata": {},
   "outputs": [
    {
     "name": "stdout",
     "output_type": "stream",
     "text": [
      "(5,)\n"
     ]
    }
   ],
   "source": [
    "my_array = np.array([1, 2, 3, 4, 5])\n",
    "print(my_array.shape)"
   ]
  },
  {
   "cell_type": "markdown",
   "id": "73f1319a",
   "metadata": {},
   "source": [
    "In this case, `my_array` is a **1-dimensional** array with 5 elements. The `shape` attribute returns a tuple `(5,)` indicating the shape of the array. \n",
    "\n",
    "Here's an example of a **3-dimensional** array:"
   ]
  },
  {
   "cell_type": "code",
   "execution_count": 15,
   "id": "5dbbd3be",
   "metadata": {},
   "outputs": [
    {
     "name": "stdout",
     "output_type": "stream",
     "text": [
      "(3, 3, 3)\n"
     ]
    }
   ],
   "source": [
    "my_array = np.array([ [[1, 2, 3], [4, 5, 6], [7, 8, 9]], [[1, 2, 3], [4, 5, 6], [7, 8, 9]], [[1, 2, 3], [4, 5, 6], [7, 8, 9]] ])\n",
    "print(my_array.shape)"
   ]
  },
  {
   "cell_type": "markdown",
   "id": "0244f5a7",
   "metadata": {},
   "source": [
    "#### Dimensions of an Array\n",
    "\n",
    "The dimensions of a `Numpy` array refer to the number of axes or dimensions it has. You can determine the number of dimensions using the `ndim` attribute. Here's an example:"
   ]
  },
  {
   "cell_type": "code",
   "execution_count": 16,
   "id": "f9567e81",
   "metadata": {},
   "outputs": [
    {
     "name": "stdout",
     "output_type": "stream",
     "text": [
      "2\n"
     ]
    }
   ],
   "source": [
    "my_array = np.array([[1, 2, 3], [4, 5, 6]])\n",
    "print(my_array.ndim)"
   ]
  },
  {
   "cell_type": "markdown",
   "id": "76f72a37",
   "metadata": {},
   "source": [
    "In this example, `my_array` is a **2-dimensional** array, so the `ndim` attribute returns `2`.\n",
    "\n",
    "If you have a **1-dimensional** array, the `ndim` attribute will return `1`. For example:"
   ]
  },
  {
   "cell_type": "code",
   "execution_count": 17,
   "id": "0696fb63",
   "metadata": {},
   "outputs": [
    {
     "name": "stdout",
     "output_type": "stream",
     "text": [
      "1\n"
     ]
    }
   ],
   "source": [
    "my_array = np.array([1, 2, 3, 4, 5])\n",
    "print(my_array.ndim)"
   ]
  },
  {
   "cell_type": "markdown",
   "id": "40ee1f40",
   "metadata": {},
   "source": [
    "Understanding the shape and dimensions of a `Numpy` array is crucial when working with multi-dimensional arrays, as it helps you correctly access and manipulate the array elements."
   ]
  },
  {
   "cell_type": "markdown",
   "id": "a8c89ca1",
   "metadata": {},
   "source": [
    "<a name='2-3'></a>\n",
    "### 2.3. Analogy between Numpy arrays and mathematical data structures"
   ]
  },
  {
   "cell_type": "markdown",
   "id": "afc80e18",
   "metadata": {},
   "source": [
    "`Numpy` arrays can be thought of as multi-dimensional counterparts to **basic mathematical data structures** such as **scalars**, **vectors**, and **matrices**. Here's an analogy to help you understand this relationship:\n",
    "\n",
    "1. **Scalars:**\n",
    "- In mathematics, a scalar is a single numerical value, representing magnitude but not direction.\n",
    "- In `Numpy`, a scalar is the simplest form of an array, with zero dimensions. It represents a single value.\n",
    "- Analogously, a `Numpy` scalar can be seen as the equivalent of a scalar in mathematics.\n",
    "\n",
    "2. Vectors:\n",
    "- In mathematics, a vector is a one-dimensional array of values, with both magnitude and direction.\n",
    "- In `Numpy`, a one-dimensional array represents a vector.\n",
    "- Analogously, a `Numpy` one-dimensional array can be seen as the equivalent of a vector in mathematics.\n",
    "\n",
    "3. Matrices:\n",
    "- In mathematics, a matrix is a two-dimensional array of values, arranged in rows and columns.\n",
    "- In `Numpy`, a two-dimensional array represents a matrix.\n",
    "- Analogously, a `Numpy` two-dimensional array can be seen as the equivalent of a matrix in mathematics.\n",
    "\n",
    "4. n-dimensional arrays:\n",
    "- In mathematics, higher-dimensional arrays can be thought of as extensions of vectors and matrices.\n",
    "- In `Numpy`, n-dimensional arrays represent arrays with more than two dimensions.\n",
    "- Analogously, a `Numpy` n-dimensional array can be seen as the extension of vectors and matrices to higher dimensions.\n",
    "\n",
    "By leveraging the power of n-dimensional arrays, `Numpy` provides a versatile framework for handling and manipulating data in various dimensions, making it well-suited for tasks in **machine learning** and **scientific computing**.\n",
    "\n",
    "**Note:** It's important to note that while the analogy helps in understanding the relationship between `Numpy` arrays and mathematical data structures, `Numpy` arrays also have additional capabilities and functionalities specific to array operations, broadcasting, and other numerical computations."
   ]
  },
  {
   "cell_type": "markdown",
   "id": "39a26367",
   "metadata": {},
   "source": [
    "<a name='2-4'></a>\n",
    "### 2.4. Accessing and modifying array elements"
   ]
  },
  {
   "cell_type": "markdown",
   "id": "464e5300",
   "metadata": {},
   "source": [
    "`Numpy` arrays provide convenient ways to access and modify individual elements or subsets of elements within the array."
   ]
  },
  {
   "cell_type": "markdown",
   "id": "96caea03",
   "metadata": {},
   "source": [
    "#### Accessing Array Elements\n",
    "\n",
    "You can access specific elements in a `Numpy` array using indexing. `Numpy` arrays are zero-indexed, which means the first element has an index of `0`. Here are a few examples:"
   ]
  },
  {
   "cell_type": "code",
   "execution_count": 21,
   "id": "0927df60",
   "metadata": {},
   "outputs": [
    {
     "name": "stdout",
     "output_type": "stream",
     "text": [
      "1\n",
      "3\n",
      "5\n"
     ]
    }
   ],
   "source": [
    "my_array = np.array([1, 2, 3, 4, 5])\n",
    "\n",
    "# Access the first element\n",
    "print(my_array[0])  # Output: 1\n",
    "\n",
    "# Access the third element\n",
    "print(my_array[2])  # Output: 3\n",
    "\n",
    "# Access the last element\n",
    "print(my_array[-1])  # Output: 5"
   ]
  },
  {
   "cell_type": "markdown",
   "id": "7f622a13",
   "metadata": {},
   "source": [
    "In this example, `my_array` is a **1-dimensional** array. We use square brackets `[]` with the desired index to access specific elements. Negative indices can be used to access elements from the end of the array.\n",
    "\n",
    "For multi-dimensional arrays, you can use multiple indices to access elements in different dimensions. Here's an example with a **2-dimensional** array:"
   ]
  },
  {
   "cell_type": "code",
   "execution_count": 25,
   "id": "914fc7a6",
   "metadata": {},
   "outputs": [
    {
     "name": "stdout",
     "output_type": "stream",
     "text": [
      "2\n",
      "6\n"
     ]
    }
   ],
   "source": [
    "my_array = np.array([[1, 2, 3], [4, 5, 6]])\n",
    "\n",
    "# Access the element at row 0, column 1\n",
    "print(my_array[0, 1])  # Output: 2\n",
    "\n",
    "# Access the element at row 1, column 2\n",
    "print(my_array[1, 2])  # Output: 6"
   ]
  },
  {
   "cell_type": "markdown",
   "id": "2172df4d",
   "metadata": {},
   "source": [
    "In this case, `my_array` is a **2-dimensional** array. We use comma-separated indices within the square brackets to access specific elements based on their row and column positions."
   ]
  },
  {
   "cell_type": "markdown",
   "id": "d0bf4a5b",
   "metadata": {},
   "source": [
    "#### Modifying Array Elements\n",
    "\n",
    "`Numpy` arrays allow you to modify individual elements or subsets of elements by assigning new values. Here are a few examples:"
   ]
  },
  {
   "cell_type": "code",
   "execution_count": 29,
   "id": "d132e334",
   "metadata": {},
   "outputs": [
    {
     "name": "stdout",
     "output_type": "stream",
     "text": [
      "[ 1 10  3  4  5]\n",
      "[ 1 10 20 30 40]\n"
     ]
    }
   ],
   "source": [
    "my_array = np.array([1, 2, 3, 4, 5])\n",
    "\n",
    "# Modify the second element\n",
    "my_array[1] = 10\n",
    "print(my_array)  # Output: [1, 10, 3, 4, 5]\n",
    "\n",
    "# Modify a subset of elements (from the third element to the last element)\n",
    "my_array[2:] = [20, 30, 40]\n",
    "print(my_array)  # Output: [1, 10, 20, 30, 40]"
   ]
  },
  {
   "cell_type": "markdown",
   "id": "157e9c5a",
   "metadata": {},
   "source": [
    "In this example, we first modify the second element of `my_array` by assigning a new value. Then, we modify a subset of elements from index 2 to 4 (inclusive) by assigning a new list of values.\n",
    "\n",
    "For multi-dimensional arrays, you can modify elements in a similar way using indexing. Here's an example:"
   ]
  },
  {
   "cell_type": "code",
   "execution_count": 30,
   "id": "08d9784b",
   "metadata": {},
   "outputs": [
    {
     "name": "stdout",
     "output_type": "stream",
     "text": [
      "[[ 1  2  3]\n",
      " [10  5  6]]\n"
     ]
    }
   ],
   "source": [
    "my_array = np.array([[1, 2, 3], [4, 5, 6]])\n",
    "\n",
    "# Modify the element at row 1, column 0\n",
    "my_array[1, 0] = 10\n",
    "print(my_array)"
   ]
  },
  {
   "cell_type": "markdown",
   "id": "10e87b5a",
   "metadata": {},
   "source": [
    "In this case, we modify the element at row `1` and column `0` by assigning a new value.\n",
    "\n",
    "Understanding how to access and modify array elements is fundamental when working with Numpy arrays, as it allows you to extract and update the data within the arrays based on your specific needs."
   ]
  },
  {
   "cell_type": "markdown",
   "id": "dc0a4cc2",
   "metadata": {},
   "source": [
    "<a name='2-5'></a>\n",
    "### 2.5. Basic array operations (element-wise operations, broadcasting)"
   ]
  },
  {
   "cell_type": "markdown",
   "id": "7a18ac29",
   "metadata": {},
   "source": [
    "`Numpy` arrays support various basic operations that can be performed element-wise on the arrays. These operations include arithmetic operations, mathematical functions, and logical operations. In this subsection, we will explore how to perform element-wise operations and utilize broadcasting in `Numpy`."
   ]
  },
  {
   "cell_type": "markdown",
   "id": "d87058c2",
   "metadata": {},
   "source": [
    "#### Element-wise Operations\n",
    "\n",
    "Element-wise operations allow you to perform arithmetic operations or apply mathematical functions to each element in a `Numpy` array independently. Here are a few examples:"
   ]
  },
  {
   "cell_type": "code",
   "execution_count": 33,
   "id": "c675dd17",
   "metadata": {},
   "outputs": [
    {
     "name": "stdout",
     "output_type": "stream",
     "text": [
      "[3 4 5 6 7]\n",
      "[-1  0  1  2  3]\n",
      "[ 2  4  6  8 10]\n",
      "[0.5 1.  1.5 2.  2.5]\n",
      "[ 1  4  9 16 25]\n"
     ]
    }
   ],
   "source": [
    "my_array = np.array([1, 2, 3, 4, 5])\n",
    "\n",
    "# Addition\n",
    "result_add = my_array + 2\n",
    "print(result_add)  # Output: [3, 4, 5, 6, 7]\n",
    "\n",
    "# Subtraction\n",
    "result_subtract = my_array - 2\n",
    "print(result_subtract)  # Output: [-1, 0, 1, 2, 3]\n",
    "\n",
    "# Multiplication\n",
    "result_multiply = my_array * 2\n",
    "print(result_multiply)  # Output: [2, 4, 6, 8, 10]\n",
    "\n",
    "# Division\n",
    "result_divide = my_array / 2\n",
    "print(result_divide)  # Output: [0.5, 1.0, 1.5, 2.0, 2.5]\n",
    "\n",
    "# Exponentiation\n",
    "result_power = my_array ** 2\n",
    "print(result_power)  # Output: [1, 4, 9, 16, 25]"
   ]
  },
  {
   "cell_type": "markdown",
   "id": "be95b193",
   "metadata": {},
   "source": [
    "In this example, we perform various arithmetic operations (addition, subtraction, multiplication, division, and exponentiation) on `my_array`, resulting in new arrays with the element-wise operation applied.\n",
    "\n",
    "`Numpy` also provides a wide range of mathematical functions that can be applied element-wise to arrays, such as `np.sin()`, `np.cos()`, `np.exp()`, etc. Here's an example:"
   ]
  },
  {
   "cell_type": "code",
   "execution_count": 35,
   "id": "02e27b65",
   "metadata": {},
   "outputs": [
    {
     "name": "stdout",
     "output_type": "stream",
     "text": [
      "[0.0000000e+00 1.0000000e+00 1.2246468e-16]\n",
      "[ 1.          4.81047738 23.14069263]\n"
     ]
    }
   ],
   "source": [
    "my_array = np.array([0, np.pi/2, np.pi])\n",
    "\n",
    "# Sine function\n",
    "result_sin = np.sin(my_array)\n",
    "print(result_sin)  # Output: [0.0, 1.0, 1.2246468e-16]\n",
    "\n",
    "# Exponential function\n",
    "result_exp = np.exp(my_array)\n",
    "print(result_exp)  # Output: [ 1., 4.81047738, 23.14069263]"
   ]
  },
  {
   "cell_type": "markdown",
   "id": "006c24b7",
   "metadata": {},
   "source": [
    "In this case, we apply the `np.sin()` and `np.exp()` functions to `my_array`, resulting in new arrays with the element-wise function applied."
   ]
  },
  {
   "cell_type": "markdown",
   "id": "73db9c4b",
   "metadata": {},
   "source": [
    "#### Broadcasting\n",
    "\n",
    "Broadcasting is a powerful feature in `Numpy` that enables operations between arrays of different shapes or dimensions. `Numpy` automatically performs broadcasting when certain conditions are met. Here's an example:"
   ]
  },
  {
   "cell_type": "code",
   "execution_count": 37,
   "id": "cd7850c7",
   "metadata": {},
   "outputs": [
    {
     "name": "stdout",
     "output_type": "stream",
     "text": [
      "[[ 2  4  6]\n",
      " [ 8 10 12]]\n"
     ]
    }
   ],
   "source": [
    "my_array = np.array([[1, 2, 3], [4, 5, 6]])\n",
    "scalar = 2\n",
    "\n",
    "result_broadcast = my_array * scalar\n",
    "print(result_broadcast)"
   ]
  },
  {
   "cell_type": "markdown",
   "id": "fba2ce08",
   "metadata": {},
   "source": [
    "In this example, we multiply a **2-dimensional** array my_array with a scalar value `scalar`. `Numpy` automatically broadcasts the `scalar` to match the shape of the array, and the element-wise multiplication is performed accordingly.\n",
    "\n",
    "**Broadcasting** allows for concise and efficient code implementation, eliminating the need for explicit loops or repetitions when operating on arrays of different shapes.\n",
    "\n",
    "Understanding and utilizing element-wise operations and broadcasting in `Numpy` are essential when performing mathematical computations and transformations."
   ]
  },
  {
   "cell_type": "markdown",
   "id": "c962f9be",
   "metadata": {},
   "source": [
    "<a name='3'></a>\n",
    "# 3. Array Initialisation and Attributes"
   ]
  },
  {
   "cell_type": "markdown",
   "id": "ee650bb2",
   "metadata": {},
   "source": [
    "In this section, we will explore different methods of initialising `Numpy` arrays with specific values or patterns. We will also learn about various attributes associated with `Numpy` arrays that provide useful information about the array's shape, size, data type, etc."
   ]
  },
  {
   "cell_type": "markdown",
   "id": "ea7f8973",
   "metadata": {},
   "source": [
    "<a name='3-1'></a>\n",
    "### 3.1. Creating arrays with specific values (np.zeros(), np.ones(), np.full(), etc.)"
   ]
  },
  {
   "cell_type": "markdown",
   "id": "ba783183",
   "metadata": {},
   "source": [
    "#### Initializing arrays with a single value\n",
    "You can create an array filled with a single value using the `np.full()` function. Here's an example:"
   ]
  },
  {
   "cell_type": "code",
   "execution_count": 39,
   "id": "ff719c87",
   "metadata": {},
   "outputs": [
    {
     "name": "stdout",
     "output_type": "stream",
     "text": [
      "[[5 5 5]\n",
      " [5 5 5]\n",
      " [5 5 5]]\n"
     ]
    }
   ],
   "source": [
    "# Create a 3x3 matrix filled with value 5\n",
    "my_array = np.full((3, 3), 5)\n",
    "print(my_array)"
   ]
  },
  {
   "cell_type": "markdown",
   "id": "e7ca20fa",
   "metadata": {},
   "source": [
    "#### Creating arrays of zeros or ones\n",
    "You can create an array filled with zeros or ones using the `np.zeros()` or `np.ones()` functions. Here's an example:"
   ]
  },
  {
   "cell_type": "code",
   "execution_count": 49,
   "id": "79666c36",
   "metadata": {
    "scrolled": true
   },
   "outputs": [
    {
     "name": "stdout",
     "output_type": "stream",
     "text": [
      "[[0. 0. 0.]\n",
      " [0. 0. 0.]]\n",
      "[[1. 1. 1.]\n",
      " [1. 1. 1.]]\n"
     ]
    }
   ],
   "source": [
    "# Create a 2x3 matrix filled with zeros\n",
    "my_zeros_array = np.zeros(shape=(2, 3))\n",
    "print(my_zeros_array)\n",
    "\n",
    "# Create a 2x3 array filled with ones\n",
    "my_ones_array = np.ones(shape=(2, 3))\n",
    "print(my_ones_array)"
   ]
  },
  {
   "cell_type": "markdown",
   "id": "95dd1400",
   "metadata": {},
   "source": [
    "#### Generating random arrays\n",
    "`Numpy` provides functions to generate random arrays with different distributions. Here's an example:"
   ]
  },
  {
   "cell_type": "code",
   "execution_count": 50,
   "id": "15a68feb",
   "metadata": {},
   "outputs": [
    {
     "name": "stdout",
     "output_type": "stream",
     "text": [
      "[[ 0.56304351 -0.98598801 -1.1967482 ]\n",
      " [ 1.41891495  0.03252234 -0.71940226]\n",
      " [ 0.15576343 -2.01528573  0.76977121]]\n"
     ]
    }
   ],
   "source": [
    "# Create a 3x3 matrix with random values from a standard normal distribution\n",
    "my_random_array = np.random.randn(3, 3)\n",
    "print(my_random_array)"
   ]
  },
  {
   "cell_type": "markdown",
   "id": "e6e226cc",
   "metadata": {},
   "source": [
    "**Note:** `np.random.randn` generates an array ofilled with random floats sampled from a univariate “normal” (Gaussian) distribution of mean `0` and variance `1`. "
   ]
  },
  {
   "cell_type": "markdown",
   "id": "e0a47438",
   "metadata": {},
   "source": [
    "<a name='3-2'></a>\n",
    "### 3.2. Generating arrays with a range of values (np.arange(), np.linspace(), etc.)\n",
    "You can create an array with a sequence of values using the `np.arange()` or `np.linspace()` functions. Here are examples of both:"
   ]
  },
  {
   "cell_type": "code",
   "execution_count": 40,
   "id": "cc31f258",
   "metadata": {},
   "outputs": [
    {
     "name": "stdout",
     "output_type": "stream",
     "text": [
      "[0 1 2 3 4 5 6 7 8 9]\n",
      "[0.   0.25 0.5  0.75 1.  ]\n"
     ]
    }
   ],
   "source": [
    "# Create an array with values from 0 to 10 (exclusive)\n",
    "my_array1 = np.arange(10)\n",
    "print(my_array1)  # Output: [0 1 2 3 4 5 6 7 8 9]\n",
    "\n",
    "# Create an array with 5 equally spaced values from 0 to 1 (inclusive)\n",
    "my_array2 = np.linspace(0, 1, 5)\n",
    "print(my_array2)  # Output: [0.   0.25 0.5  0.75 1.  ]"
   ]
  },
  {
   "cell_type": "markdown",
   "id": "e5cf6ec6",
   "metadata": {},
   "source": [
    "<a name='3-3'></a>\n",
    "### 3.3. Array attributes (shape, size, data type, etc.)"
   ]
  },
  {
   "cell_type": "markdown",
   "id": "15440760",
   "metadata": {},
   "source": [
    "In this sub-section, we will explore various attributes associated with `Numpy` arrays that provide useful information about the array."
   ]
  },
  {
   "cell_type": "markdown",
   "id": "846374fc",
   "metadata": {},
   "source": [
    "#### Shape of the array\n",
    "The shape of an array refers to its dimensions. You can access the shape attribute of a `Numpy` array using the `.shape` property. Here's an example:"
   ]
  },
  {
   "cell_type": "code",
   "execution_count": 51,
   "id": "956b5278",
   "metadata": {},
   "outputs": [
    {
     "name": "stdout",
     "output_type": "stream",
     "text": [
      "(2, 3)\n"
     ]
    }
   ],
   "source": [
    "my_array = np.array([[1, 2, 3], [4, 5, 6]])\n",
    "print(my_array.shape)  # Output: (2, 3)"
   ]
  },
  {
   "cell_type": "markdown",
   "id": "cdeae997",
   "metadata": {},
   "source": [
    "In this example, the shape of `my_array` is `(2, 3)`, indicating that it has `2` rows and `3` columns."
   ]
  },
  {
   "cell_type": "markdown",
   "id": "5bb65b46",
   "metadata": {},
   "source": [
    "#### Dimensions and size of the array\n",
    "The number of dimensions of an array can be obtained using the `.ndim` property, and the total number of elements in the array can be obtained using the `.size` property. Here's an example:"
   ]
  },
  {
   "cell_type": "code",
   "execution_count": 54,
   "id": "af09fce3",
   "metadata": {},
   "outputs": [
    {
     "name": "stdout",
     "output_type": "stream",
     "text": [
      "2\n",
      "6\n"
     ]
    }
   ],
   "source": [
    "my_array = np.array([[1, 2, 3], [4, 5, 6]])\n",
    "print(my_array.ndim)  # Output: 2\n",
    "print(my_array.size)  # Output: 6"
   ]
  },
  {
   "cell_type": "markdown",
   "id": "42d5b3e7",
   "metadata": {},
   "source": [
    "In this example, `my_array` has `2` dimensions and a total of `6` elements."
   ]
  },
  {
   "cell_type": "markdown",
   "id": "0eddc399",
   "metadata": {},
   "source": [
    "#### Data type of the array\n",
    "The data type of an array can be accessed using the `.dtype` property. Here's an example:"
   ]
  },
  {
   "cell_type": "code",
   "execution_count": 56,
   "id": "0e93fe58",
   "metadata": {},
   "outputs": [
    {
     "name": "stdout",
     "output_type": "stream",
     "text": [
      "int64\n"
     ]
    }
   ],
   "source": [
    "my_array = np.array([1, 2, 3])\n",
    "print(my_array.dtype)  # Output: int64"
   ]
  },
  {
   "cell_type": "markdown",
   "id": "83a10f50",
   "metadata": {},
   "source": [
    "In this example, the data type of `my_array` is `int64`, indicating that it contains 64-bit integers."
   ]
  },
  {
   "cell_type": "markdown",
   "id": "9edf3a33",
   "metadata": {},
   "source": [
    "#### Number of elements in the array\n",
    "The number of elements in an array can be obtained using the `len()` function. Here's an example:"
   ]
  },
  {
   "cell_type": "code",
   "execution_count": 62,
   "id": "eadb05c7",
   "metadata": {},
   "outputs": [
    {
     "name": "stdout",
     "output_type": "stream",
     "text": [
      "3\n"
     ]
    }
   ],
   "source": [
    "my_array = np.array([1, 2, 3])\n",
    "print(len(my_array))  # Output: 3"
   ]
  },
  {
   "cell_type": "markdown",
   "id": "14941b35",
   "metadata": {},
   "source": [
    "In this example, `my_array` contains `3` elements.\n",
    "\n",
    "**Note:** In the case of n-dimensional arrays ($n>1$), `len()` will give you the number of 'elements' of the first dimension whereas the attribute `.size` will give you the number of 'elements' in the array. Here's an example:"
   ]
  },
  {
   "cell_type": "code",
   "execution_count": 66,
   "id": "24cd56f5",
   "metadata": {},
   "outputs": [
    {
     "data": {
      "text/plain": [
       "9"
      ]
     },
     "execution_count": 66,
     "metadata": {},
     "output_type": "execute_result"
    }
   ],
   "source": [
    "my_array = np.ones(shape=(3,3))\n",
    "len(my_array) # Output: 3\n",
    "my_array.size # Output: 9"
   ]
  },
  {
   "cell_type": "markdown",
   "id": "b698f4b8",
   "metadata": {},
   "source": [
    "#### Memory consumption of the array (optional)\n",
    "The memory consumed of an array obtained by using the `.nbytes` property which can also be calculated by multiplying its size (number of elements) with the item size (memory size of each element). Here's an example:"
   ]
  },
  {
   "cell_type": "code",
   "execution_count": 67,
   "id": "ebf8fb7b",
   "metadata": {},
   "outputs": [
    {
     "name": "stdout",
     "output_type": "stream",
     "text": [
      "24\n"
     ]
    }
   ],
   "source": [
    "my_array = np.array([1, 2, 3])\n",
    "print(my_array.nbytes)  # Output: 24"
   ]
  },
  {
   "cell_type": "markdown",
   "id": "0afcea2a",
   "metadata": {},
   "source": [
    "In this example, `my_array` consumes `24` bytes of memory (assuming each integer element requires `8` bytes)."
   ]
  },
  {
   "cell_type": "code",
   "execution_count": 71,
   "id": "521f1183",
   "metadata": {},
   "outputs": [
    {
     "data": {
      "text/plain": [
       "72"
      ]
     },
     "execution_count": 71,
     "metadata": {},
     "output_type": "execute_result"
    }
   ],
   "source": [
    "my_array = np.full(shape=(3,3), fill_value=.5)\n",
    "my_array.nbytes"
   ]
  },
  {
   "cell_type": "markdown",
   "id": "5dc34ce7",
   "metadata": {},
   "source": [
    "<a name='4'></a>\n",
    "# 4. Array Operations"
   ]
  },
  {
   "cell_type": "markdown",
   "id": "eabef066",
   "metadata": {},
   "source": [
    "In this section, we will explore various mathematical operations that can be performed on `Numpy` arrays, such as addition, subtraction, multiplication, division, exponentiation, and more."
   ]
  },
  {
   "cell_type": "markdown",
   "id": "dbfaa67b",
   "metadata": {},
   "source": [
    "<a name='4-1'></a>\n",
    "### 4.1. Mathematical operations with arrays (+, -, *, /, etc.)"
   ]
  },
  {
   "cell_type": "markdown",
   "id": "989af32e",
   "metadata": {},
   "source": [
    "`Numpy` provides element-wise operations for mathematical operations between arrays, allowing you to perform arithmetic operations on corresponding elements of two or more arrays. Here's how it works:"
   ]
  },
  {
   "cell_type": "code",
   "execution_count": 74,
   "id": "7d14f310",
   "metadata": {},
   "outputs": [
    {
     "name": "stdout",
     "output_type": "stream",
     "text": [
      "Addition: [5 7 9]\n",
      "Subtraction: [-3 -3 -3]\n",
      "Multiplication: [ 4 10 18]\n",
      "Division: [0.25 0.4  0.5 ]\n",
      "Exponentiation: [  1  32 729]\n"
     ]
    }
   ],
   "source": [
    "# Creating two arrays\n",
    "arr1 = np.array([1, 2, 3])\n",
    "arr2 = np.array([4, 5, 6])\n",
    "\n",
    "# Addition\n",
    "add_result = arr1 + arr2\n",
    "print(\"Addition:\", add_result)\n",
    "\n",
    "# Subtraction\n",
    "sub_result = arr1 - arr2\n",
    "print(\"Subtraction:\", sub_result)\n",
    "\n",
    "# Multiplication\n",
    "mul_result = arr1 * arr2\n",
    "print(\"Multiplication:\", mul_result)\n",
    "\n",
    "# Division\n",
    "div_result = arr1 / arr2\n",
    "print(\"Division:\", div_result)\n",
    "\n",
    "# Exponentiation\n",
    "exp_result = arr1 ** arr2\n",
    "print(\"Exponentiation:\", exp_result)"
   ]
  },
  {
   "cell_type": "markdown",
   "id": "93015e3c",
   "metadata": {},
   "source": [
    "In this example, we have two arrays `arr1` and `arr2`. We perform various mathematical operations on these arrays using the corresponding operators `+`, `-`, `*`, `/`, and `**`. The operations are performed element-wise, meaning each element of one array is operated on with the corresponding element of the other array.\n",
    "\n",
    "It's important to note that the arrays involved in the operations must have compatible shapes, or they must be broadcastable to compatible shapes. Broadcasting allows arrays with different shapes to be used in arithmetic operations by automatically extending or duplicating their values to match each other's shapes.\n",
    "\n",
    "`Numpy` also provides many other mathematical functions and operations that can be applied to arrays, such as `np.sin()`, `np.cos()`, `np.sqrt()`, and more. These functions operate element-wise on the array and return a new array with the calculated values."
   ]
  },
  {
   "cell_type": "code",
   "execution_count": 76,
   "id": "67b59071",
   "metadata": {},
   "outputs": [
    {
     "name": "stdout",
     "output_type": "stream",
     "text": [
      "Sine: [0.84147098 0.90929743 0.14112001]\n",
      "Cosine: [ 0.54030231 -0.41614684 -0.9899925 ]\n",
      "Square Root: [1.         1.41421356 1.73205081]\n"
     ]
    }
   ],
   "source": [
    "# Creating an array\n",
    "my_array = np.array([1, 2, 3])\n",
    "\n",
    "# Applying mathematical functions\n",
    "sin_result = np.sin(my_array)\n",
    "print(\"Sine:\", sin_result)\n",
    "\n",
    "cos_result = np.cos(my_array)\n",
    "print(\"Cosine:\", cos_result)\n",
    "\n",
    "sqrt_result = np.sqrt(my_array)\n",
    "print(\"Square Root:\", sqrt_result)"
   ]
  },
  {
   "cell_type": "markdown",
   "id": "2c96d058",
   "metadata": {},
   "source": [
    "In this example, we apply various mathematical functions (`np.sin()`, `np.cos()`, and `np.sqrt()`) to `my_array` and obtain new arrays with the calculated values.\n",
    "\n",
    "These mathematical operations and functions play a vital role in performing computations on arrays in machine learning and numerical computing tasks, allowing you to manipulate and analyze data efficiently."
   ]
  },
  {
   "cell_type": "markdown",
   "id": "2fb6150c",
   "metadata": {},
   "source": [
    "<a name='4-2'></a>\n",
    "### 4.2. Array aggregation functions (np.sum(), np.mean(), np.min(), np.max(), etc.)"
   ]
  },
  {
   "cell_type": "markdown",
   "id": "85f836a9",
   "metadata": {},
   "source": [
    "`Numpy` provides a wide range of aggregation functions that allow you to calculate various statistics and properties of `Numpy` arrays. These functions can help you summarize and analyze your data efficiently. Here are some commonly used aggregation functions:"
   ]
  },
  {
   "cell_type": "code",
   "execution_count": 77,
   "id": "5b2296d3",
   "metadata": {},
   "outputs": [
    {
     "name": "stdout",
     "output_type": "stream",
     "text": [
      "Sum: 15\n",
      "Mean: 3.0\n",
      "Minimum: 1\n",
      "Maximum: 5\n"
     ]
    }
   ],
   "source": [
    "# Creating an array\n",
    "my_array = np.array([1, 2, 3, 4, 5])\n",
    "\n",
    "# Sum of array elements\n",
    "sum_result = np.sum(my_array)\n",
    "print(\"Sum:\", sum_result)\n",
    "\n",
    "# Mean of array elements\n",
    "mean_result = np.mean(my_array)\n",
    "print(\"Mean:\", mean_result)\n",
    "\n",
    "# Minimum value in the array\n",
    "min_result = np.min(my_array)\n",
    "print(\"Minimum:\", min_result)\n",
    "\n",
    "# Maximum value in the array\n",
    "max_result = np.max(my_array)\n",
    "print(\"Maximum:\", max_result)"
   ]
  },
  {
   "cell_type": "markdown",
   "id": "482d305a",
   "metadata": {},
   "source": [
    "In this example, we have an array `my_array`, and we apply various aggregation functions to calculate the `sum`, `mean`, `minimum`, and `maximum` values of the array.\n",
    "\n",
    "`Numpy` aggregation functions also support specifying the axis parameter to calculate the aggregation along a specific axis in multi-dimensional arrays. This allows you to perform aggregations row-wise or column-wise. Here's an example:"
   ]
  },
  {
   "cell_type": "code",
   "execution_count": 78,
   "id": "37ebef07",
   "metadata": {},
   "outputs": [
    {
     "name": "stdout",
     "output_type": "stream",
     "text": [
      "Sum along rows: [5 7 9]\n",
      "Sum along columns: [ 6 15]\n"
     ]
    }
   ],
   "source": [
    "# Creating a 2D array\n",
    "my_array = np.array([[1, 2, 3],\n",
    "                     [4, 5, 6]])\n",
    "\n",
    "# Sum along the rows (axis=0)\n",
    "sum_rows = np.sum(my_array, axis=0)\n",
    "print(\"Sum along rows:\", sum_rows)\n",
    "\n",
    "# Sum along the columns (axis=1)\n",
    "sum_cols = np.sum(my_array, axis=1)\n",
    "print(\"Sum along columns:\", sum_cols)"
   ]
  },
  {
   "cell_type": "markdown",
   "id": "0b7aa86c",
   "metadata": {},
   "source": [
    "In this example, we calculate the `sum` along the rows (`axis=0`) and columns (`axis=1`) of the 2D array `my_array`.\n",
    "\n",
    "`Numpy` provides many other aggregation functions, such as `np.median()`, `np.std()`, `np.var()` and more. These functions allow you to calculate the median, standard deviation, variance and other statistical properties of your arrays."
   ]
  },
  {
   "cell_type": "code",
   "execution_count": 80,
   "id": "e865f928",
   "metadata": {},
   "outputs": [
    {
     "name": "stdout",
     "output_type": "stream",
     "text": [
      "Median: 3.0\n",
      "Standard Deviation: 1.4142135623730951\n",
      "Variance: 2.0\n"
     ]
    }
   ],
   "source": [
    "# Creating an array\n",
    "my_array = np.array([1, 2, 3, 4, 5])\n",
    "\n",
    "# Median of array elements\n",
    "median_result = np.median(my_array)\n",
    "print(\"Median:\", median_result)\n",
    "\n",
    "# Standard deviation of array elements\n",
    "std_result = np.std(my_array)\n",
    "print(\"Standard Deviation:\", std_result)\n",
    "\n",
    "# Variance of array elements\n",
    "var_result = np.var(my_array)\n",
    "print(\"Variance:\", var_result)"
   ]
  },
  {
   "cell_type": "markdown",
   "id": "5a4e6aa4",
   "metadata": {},
   "source": [
    "In this example, we calculate the median, standard deviation, and variance of the array `my_array`.\n",
    "\n",
    "These aggregation functions are essential for analyzing and summarizing data in machine learning and data analysis tasks. They provide valuable insights into the distribution and properties of the arrays."
   ]
  },
  {
   "cell_type": "markdown",
   "id": "b8da3aac",
   "metadata": {},
   "source": [
    "<a name='4-3'></a>\n",
    "### 4.3. Array transformations (np.reshape(), np.transpose(), etc.)"
   ]
  },
  {
   "cell_type": "markdown",
   "id": "9333ddfc",
   "metadata": {},
   "source": [
    "`Numpy` provides several functions to transform and manipulate the shape and dimensions of `Numpy` arrays. These functions allow you to `reshape`, `transpose`, `concatenate`, and `split` arrays. Let's explore some commonly used array transformation functions."
   ]
  },
  {
   "cell_type": "markdown",
   "id": "b7c4d98c",
   "metadata": {},
   "source": [
    "#### Reshaping arrays using `np.reshape()`\n",
    "The `np.reshape()` function allows you to change the shape of an array while maintaining the same elements. Here's an example:"
   ]
  },
  {
   "cell_type": "code",
   "execution_count": 84,
   "id": "36fd95fe",
   "metadata": {},
   "outputs": [
    {
     "name": "stdout",
     "output_type": "stream",
     "text": [
      "2D Array:\n",
      " [[1 2 3]\n",
      " [4 5 6]]\n"
     ]
    }
   ],
   "source": [
    "# Creating a 1D array\n",
    "arr1d = np.array([1, 2, 3, 4, 5, 6])\n",
    "\n",
    "# Reshaping the array to a 2D array\n",
    "arr2d = np.reshape(arr1d, (2, 3))\n",
    "print(\"2D Array:\\n\", arr2d)\n"
   ]
  },
  {
   "cell_type": "markdown",
   "id": "5f2f6ea6",
   "metadata": {},
   "source": [
    "In this example, we reshape the 1D array `arr1d` into a 2D array `arr2d` with a shape of `(2, 3)`.\n",
    "\n",
    "**Note:** The total number of elements before and after a reshaping operation should remain the same. For example, if you try: `arr2d = np.reshape(arr1d, (2, 2))`, you'll get a `ValueError`."
   ]
  },
  {
   "cell_type": "markdown",
   "id": "ca50871a",
   "metadata": {},
   "source": [
    "#### Transposing arrays using `np.transpose()`\n",
    "The `np.transpose()` function allows you to interchange the dimensions of an array. Here's an example:"
   ]
  },
  {
   "cell_type": "code",
   "execution_count": 89,
   "id": "836644db",
   "metadata": {},
   "outputs": [
    {
     "name": "stdout",
     "output_type": "stream",
     "text": [
      "Transposed Array:\n",
      " [[1 4]\n",
      " [2 5]\n",
      " [3 6]]\n"
     ]
    }
   ],
   "source": [
    "# Creating a 2D array\n",
    "arr2d = np.array([[1, 2, 3],\n",
    "                  [4, 5, 6]])\n",
    "\n",
    "# Transposing the array\n",
    "transposed_arr = np.transpose(arr2d)\n",
    "print(\"Transposed Array:\\n\", transposed_arr)"
   ]
  },
  {
   "cell_type": "markdown",
   "id": "5c940869",
   "metadata": {},
   "source": [
    "In this example, we transpose the 2D array `arr2d` by interchanging its rows and columns."
   ]
  },
  {
   "cell_type": "markdown",
   "id": "f2f7ba39",
   "metadata": {},
   "source": [
    "#### Concatenating arrays using `np.concatenate()`\n",
    "The `np.concatenate()` function allows you to concatenate multiple arrays along a specified axis. Here's an example:"
   ]
  },
  {
   "cell_type": "code",
   "execution_count": 94,
   "id": "dc7d286d",
   "metadata": {},
   "outputs": [
    {
     "name": "stdout",
     "output_type": "stream",
     "text": [
      "Concatenated Array: [1 2 3 4 5 6]\n"
     ]
    }
   ],
   "source": [
    "# Creating two 1D arrays\n",
    "arr1 = np.array([1, 2, 3])\n",
    "arr2 = np.array([4, 5, 6])\n",
    "\n",
    "# Concatenating the arrays along the axis 0\n",
    "concatenated_arr = np.concatenate((arr1, arr2), axis=0)\n",
    "print(\"Concatenated Array:\", concatenated_arr)"
   ]
  },
  {
   "cell_type": "markdown",
   "id": "2f505bea",
   "metadata": {},
   "source": [
    "In this example, we concatenate the two 1D arrays `arr1` and `arr2` along the `axis=0`, resulting in a single 1D array."
   ]
  },
  {
   "cell_type": "markdown",
   "id": "a6aa6e7c",
   "metadata": {},
   "source": [
    "#### Stacking arrays using `np.stack()`\n",
    "The `np.stack()` function allows you to stack arrays along a new axis. Here's an example:"
   ]
  },
  {
   "cell_type": "code",
   "execution_count": 98,
   "id": "2256d4b1",
   "metadata": {},
   "outputs": [
    {
     "name": "stdout",
     "output_type": "stream",
     "text": [
      "Stacked Array:\n",
      " [[1 2 3]\n",
      " [4 5 6]]\n"
     ]
    }
   ],
   "source": [
    "# Creating two arrays\n",
    "arr1 = np.array([1, 2, 3])\n",
    "arr2 = np.array([4, 5, 6])\n",
    "\n",
    "# Stacking the arrays along a new axis (axis=0)\n",
    "stacked_arr = np.stack((arr1, arr2), axis=0)\n",
    "print(\"Stacked Array:\\n\", stacked_arr)"
   ]
  },
  {
   "cell_type": "markdown",
   "id": "c38edae3",
   "metadata": {},
   "source": [
    "In this example, we stack the two 1D arrays `arr1` and `arr2` along a new axis (`axis=0`), resulting in a 2D array."
   ]
  },
  {
   "cell_type": "markdown",
   "id": "7bdfb6a5",
   "metadata": {},
   "source": [
    "#### Horizontally stacking arrays using `np.hstack()`\n",
    "The `np.hstack()` function allows you to horizontally stack arrays. Here's an example:"
   ]
  },
  {
   "cell_type": "code",
   "execution_count": 99,
   "id": "29cea0b1",
   "metadata": {},
   "outputs": [
    {
     "name": "stdout",
     "output_type": "stream",
     "text": [
      "Horizontally Stacked Array: [1 2 3 4 5 6]\n"
     ]
    }
   ],
   "source": [
    "arr1 = np.array([1, 2, 3])\n",
    "arr2 = np.array([4, 5, 6])\n",
    "\n",
    "# Horizontally stacking the arrays\n",
    "hstacked_arr = np.hstack((arr1, arr2))\n",
    "print(\"Horizontally Stacked Array:\", hstacked_arr)"
   ]
  },
  {
   "cell_type": "markdown",
   "id": "9748d536",
   "metadata": {},
   "source": [
    "In this example, we horizontally stack the two 1D arrays `arr1` and `arr2`, resulting in a single 1D array."
   ]
  },
  {
   "cell_type": "markdown",
   "id": "fd23f0ef",
   "metadata": {},
   "source": [
    "#### Vertically stacking arrays using `np.vstack()`\n",
    "The `np.vstack()` function allows you to vertically stack arrays. Here's an example:"
   ]
  },
  {
   "cell_type": "code",
   "execution_count": 100,
   "id": "ce329320",
   "metadata": {},
   "outputs": [
    {
     "name": "stdout",
     "output_type": "stream",
     "text": [
      "Vertically Stacked Array:\n",
      " [[1 2 3]\n",
      " [4 5 6]]\n"
     ]
    }
   ],
   "source": [
    "# Creating two arrays\n",
    "arr1 = np.array([1, 2, 3])\n",
    "arr2 = np.array([4, 5, 6])\n",
    "\n",
    "# Vertically stacking the arrays\n",
    "vstacked_arr = np.vstack((arr1, arr2))\n",
    "print(\"Vertically Stacked Array:\\n\", vstacked_arr)"
   ]
  },
  {
   "cell_type": "markdown",
   "id": "a6c937b1",
   "metadata": {},
   "source": [
    "In this example, we vertically stack the two 1D arrays `arr1` and `arr2`, resulting in a 2D array.\n",
    "\n",
    "These array combining functions provide flexibility in combining arrays based on your desired axis and dimensions. They are useful when you need stack arrays to form larger structures or perform operations that require combined arrays."
   ]
  },
  {
   "cell_type": "markdown",
   "id": "8b4a1c49",
   "metadata": {},
   "source": [
    "#### Splitting arrays using `np.split()`\n",
    "The `np.split()` function allows you to split an array into multiple sub-arrays along a specified axis. Here's an example:"
   ]
  },
  {
   "cell_type": "code",
   "execution_count": 95,
   "id": "82c2dc92",
   "metadata": {},
   "outputs": [
    {
     "name": "stdout",
     "output_type": "stream",
     "text": [
      "Split Array: [array([1, 2]), array([3, 4]), array([5, 6])]\n"
     ]
    }
   ],
   "source": [
    "# Creating a 1D array\n",
    "arr1d = np.array([1, 2, 3, 4, 5, 6])\n",
    "\n",
    "# Splitting the array into three equally sized sub-arrays\n",
    "split_arr = np.split(arr1d, 3)\n",
    "print(\"Split Array:\", split_arr)"
   ]
  },
  {
   "cell_type": "markdown",
   "id": "3119e29c",
   "metadata": {},
   "source": [
    "In this example, we split the 1D array `arr1d` into three equal-sized sub-arrays.\n",
    "\n",
    "These array transformation functions allow you to manipulate and restructure arrays to meet the requirements of your machine learning or data analysis tasks. They provide flexibility in reshaping, transposing, concatenating, and splitting arrays based on your specific needs."
   ]
  },
  {
   "cell_type": "markdown",
   "id": "7e8b6348",
   "metadata": {},
   "source": [
    "<a name='5'></a>\n",
    "# 5. Linear Algebra with Numpy"
   ]
  },
  {
   "cell_type": "markdown",
   "id": "70af00f9",
   "metadata": {},
   "source": [
    "Linear algebra is a fundamental mathematical discipline that plays a crucial role in many areas of machine learning and numerical computing. `Numpy`, with its powerful array operations and linear algebra functions, provides a convenient and efficient way to perform various linear algebra operations. In this section, we will explore the capabilities of `Numpy` for linear algebra tasks. We will cover matrix operations, such as matrix multiplication and inversion, as well as other essential linear algebra operations. By understanding and utilising these functions, you will be equipped to handle a wide range of linear algebra computations in your machine learning projects."
   ]
  },
  {
   "cell_type": "markdown",
   "id": "df1e9776",
   "metadata": {},
   "source": [
    "<a name='5-1'></a>\n",
    "### 5.1. Matrix operations (np.dot(), np.matmul(), np.linalg.inv(), etc.)"
   ]
  },
  {
   "cell_type": "markdown",
   "id": "0d56bfda",
   "metadata": {},
   "source": [
    "`Numpy` provides a wide range of functions for performing various matrix operations. These functions allow you to perform matrix multiplication, dot product, inverse, determinant calculation, and more. Let's explore some commonly used matrix operations functions."
   ]
  },
  {
   "cell_type": "markdown",
   "id": "9196fd13",
   "metadata": {},
   "source": [
    "#### Matrix multiplication using `np.dot()` or `@` operator\n",
    "The `np.dot()` function or the `@` operator allows you to perform matrix multiplication between two arrays. Here's an example:"
   ]
  },
  {
   "cell_type": "code",
   "execution_count": 101,
   "id": "792769dc",
   "metadata": {},
   "outputs": [
    {
     "name": "stdout",
     "output_type": "stream",
     "text": [
      "Matrix Multiplication (np.dot()):\n",
      " [[19 22]\n",
      " [43 50]]\n",
      "Matrix Multiplication (@ operator):\n",
      " [[19 22]\n",
      " [43 50]]\n"
     ]
    }
   ],
   "source": [
    "# Creating two matrices\n",
    "matrix1 = np.array([[1, 2], [3, 4]])\n",
    "matrix2 = np.array([[5, 6], [7, 8]])\n",
    "\n",
    "# Matrix multiplication using np.dot()\n",
    "result_dot = np.dot(matrix1, matrix2)\n",
    "print(\"Matrix Multiplication (np.dot()):\\n\", result_dot)\n",
    "\n",
    "# Matrix multiplication using @ operator\n",
    "result_at = matrix1 @ matrix2\n",
    "print(\"Matrix Multiplication (@ operator):\\n\", result_at)"
   ]
  },
  {
   "cell_type": "markdown",
   "id": "b36857fd",
   "metadata": {},
   "source": [
    "In this example, we perform matrix multiplication between `matrix1` and `matrix2` using both the `np.dot()` function and the `@` operator, resulting in the product matrix."
   ]
  },
  {
   "cell_type": "markdown",
   "id": "c93e5acb",
   "metadata": {},
   "source": [
    "#### Matrix multiplication with `np.matmul()`\n",
    "The `np.matmul()` function also allows you to perform matrix multiplication between arrays, similar to `np.dot()`. Here's an example:"
   ]
  },
  {
   "cell_type": "code",
   "execution_count": 102,
   "id": "f4697e54",
   "metadata": {},
   "outputs": [
    {
     "name": "stdout",
     "output_type": "stream",
     "text": [
      "Matrix Multiplication (np.matmul()):\n",
      " [[19 22]\n",
      " [43 50]]\n"
     ]
    }
   ],
   "source": [
    "# Creating two matrices\n",
    "matrix1 = np.array([[1, 2], [3, 4]])\n",
    "matrix2 = np.array([[5, 6], [7, 8]])\n",
    "\n",
    "# Matrix multiplication using np.matmul()\n",
    "result_matmul = np.matmul(matrix1, matrix2)\n",
    "print(\"Matrix Multiplication (np.matmul()):\\n\", result_matmul)"
   ]
  },
  {
   "cell_type": "markdown",
   "id": "75d3546f",
   "metadata": {},
   "source": [
    "In this example, we perform matrix multiplication between `matrix1` and `matrix2` using the `np.matmul()` function, resulting in the product matrix."
   ]
  },
  {
   "cell_type": "markdown",
   "id": "54d61cd3",
   "metadata": {},
   "source": [
    "**Note:**\n",
    "- **`np.matmul()`**: The `np.matmul()` function performs matrix multiplication between two arrays. It follows the matrix multiplication rules and handles multi-dimensional arrays appropriately. It is recommended to use `np.matmul()` for matrix multiplication operations.\n",
    "\n",
    "- **`np.dot()`**: The `np.dot()` function performs dot product between two arrays. For 2D arrays, it is equivalent to matrix multiplication. However, for higher-dimensional arrays, `np.dot()` performs a summation product over the last axes of the arrays.\n",
    "\n",
    "- **`@` operator**: The `@` operator is a shorthand notation for matrix multiplication in `Numpy`. It can be used between two arrays to perform matrix multiplication, similar to `np.matmul()`. The `@` operator was introduced in `Python 3.5` as a convenient way to express matrix multiplication."
   ]
  },
  {
   "cell_type": "markdown",
   "id": "95a45700",
   "metadata": {},
   "source": [
    "#### Matrix transpose using `np.transpose()`\n",
    "The `np.transpose()` function allows you to transpose a matrix by flipping its rows and columns. Here's an example:"
   ]
  },
  {
   "cell_type": "code",
   "execution_count": 105,
   "id": "a0e394b4",
   "metadata": {},
   "outputs": [
    {
     "name": "stdout",
     "output_type": "stream",
     "text": [
      "Matrix Transpose:\n",
      " [[1 3 5]\n",
      " [2 4 6]]\n"
     ]
    }
   ],
   "source": [
    "# Creating a matrix\n",
    "matrix = np.array([[1, 2], [3, 4], [5, 6]])\n",
    "\n",
    "# Matrix transpose using np.transpose()\n",
    "transpose_matrix = np.transpose(matrix)\n",
    "print(\"Matrix Transpose:\\n\", transpose_matrix)"
   ]
  },
  {
   "cell_type": "markdown",
   "id": "05b578e8",
   "metadata": {},
   "source": [
    "#### Matrix inversion using `np.linalg.inv()`\n",
    "The `np.linalg.inv()` function allows you to calculate the inverse of a matrix. Here's an example:"
   ]
  },
  {
   "cell_type": "code",
   "execution_count": 103,
   "id": "8b367a75",
   "metadata": {},
   "outputs": [
    {
     "name": "stdout",
     "output_type": "stream",
     "text": [
      "Inverse Matrix:\n",
      " [[-2.   1. ]\n",
      " [ 1.5 -0.5]]\n"
     ]
    }
   ],
   "source": [
    "# Creating a matrix\n",
    "matrix = np.array([[1, 2], [3, 4]])\n",
    "\n",
    "# Matrix inversion using np.linalg.inv()\n",
    "inverse_matrix = np.linalg.inv(matrix)\n",
    "print(\"Inverse Matrix:\\n\", inverse_matrix)"
   ]
  },
  {
   "cell_type": "markdown",
   "id": "ec9bb732",
   "metadata": {},
   "source": [
    "In this example, we calculate the inverse of the matrix using the `np.linalg.inv()` function.\n",
    "\n",
    "These are just a few examples of matrix operations that can be performed using `Numpy`. `Numpy` provides a wide range of functions for linear algebra operations, including solving linear equations, calculating eigenvalues and eigenvectors, and more. These functions are powerful tools for performing various matrix computations in machine learning and numerical computations."
   ]
  },
  {
   "cell_type": "markdown",
   "id": "730bdbb6",
   "metadata": {},
   "source": [
    "<a name='5-2'></a>\n",
    "### 5.2. Eigenvalues and eigenvectors (np.linalg.eig())"
   ]
  },
  {
   "cell_type": "markdown",
   "id": "a4328c98",
   "metadata": {},
   "source": [
    "Eigenvalues and eigenvectors are essential concepts in linear algebra, and they have wide applications in various fields, including machine learning and data analysis. Numpy provides the `np.linalg.eig()` function to compute the eigenvalues and eigenvectors of a square matrix. Let's explore how to use this function:"
   ]
  },
  {
   "cell_type": "code",
   "execution_count": 106,
   "id": "386453eb",
   "metadata": {},
   "outputs": [
    {
     "name": "stdout",
     "output_type": "stream",
     "text": [
      "Eigenvalues:\n",
      " [-0.37228132  5.37228132]\n",
      "Eigenvectors:\n",
      " [[-0.82456484 -0.41597356]\n",
      " [ 0.56576746 -0.90937671]]\n"
     ]
    }
   ],
   "source": [
    "# Creating a matrix\n",
    "matrix = np.array([[1, 2], [3, 4]])\n",
    "\n",
    "# Computing eigenvalues and eigenvectors using np.linalg.eig()\n",
    "eigenvalues, eigenvectors = np.linalg.eig(matrix)\n",
    "\n",
    "print(\"Eigenvalues:\\n\", eigenvalues)\n",
    "print(\"Eigenvectors:\\n\", eigenvectors)"
   ]
  },
  {
   "cell_type": "markdown",
   "id": "b8a2298c",
   "metadata": {},
   "source": [
    "In this example, we compute the eigenvalues and eigenvectors of the matrix using `np.linalg.eig()`. The eigenvalues are stored in the `eigenvalues` array, and the corresponding eigenvectors are stored in the `eigenvectors` array. \n",
    "\n",
    "Eigenvalues represent scalar values that describe the behavior of a linear transformation associated with a matrix. Eigenvectors are non-zero vectors that, when multiplied by the matrix, result in a scaled version of the original vector.\n",
    "\n",
    "The eigenvalues and eigenvectors provide valuable insights into the properties and behavior of linear transformations, which are useful in various applications, such as dimensionality reduction, spectral analysis, and understanding the dynamics of linear systems.\n",
    "\n",
    "It's important to note that the `np.linalg.eig()` function assumes that the input matrix is square. If you need to compute the eigenvalues and eigenvectors of a non-square matrix, you can use the singular value decomposition (SVD) approach provided by the `np.linalg.svd()` function.\n",
    "\n",
    "Using `np.linalg.eig()` allows you to perform eigenvalue and eigenvector computations efficiently in `Numpy`, empowering you to analyze and understand the characteristics of linear transformations and systems."
   ]
  },
  {
   "cell_type": "markdown",
   "id": "d01702a4",
   "metadata": {},
   "source": [
    "<a name='5-3'></a>\n",
    "### 5.3. Solving linear equations (np.linalg.solve())"
   ]
  },
  {
   "cell_type": "markdown",
   "id": "affa3143",
   "metadata": {},
   "source": [
    "In many applications, solving linear equations is a common task in linear algebra. `Numpy` provides the `np.linalg.solve()` function to efficiently solve systems of linear equations. This function takes the coefficient matrix and the constant vector as inputs and returns the solution vector. Let's see how to use this function:"
   ]
  },
  {
   "cell_type": "code",
   "execution_count": 107,
   "id": "f25189d2",
   "metadata": {},
   "outputs": [
    {
     "name": "stdout",
     "output_type": "stream",
     "text": [
      "Solution:\n",
      " [-0.28571429  1.85714286]\n"
     ]
    }
   ],
   "source": [
    "# Coefficient matrix\n",
    "A = np.array([[2, 3], [1, -2]])\n",
    "\n",
    "# Constant vector\n",
    "b = np.array([5, -4])\n",
    "\n",
    "# Solving linear equations using np.linalg.solve()\n",
    "solution = np.linalg.solve(A, b)\n",
    "\n",
    "print(\"Solution:\\n\", solution)"
   ]
  },
  {
   "cell_type": "markdown",
   "id": "a2f925b1",
   "metadata": {},
   "source": [
    "In this example, we have a system of linear equations represented by the coefficient matrix `A` and the constant vector `b`. We use `np.linalg.solve()` to find the solution vector that satisfies the equation `A @ solution = b`. The solution vector contains the values that solve this system of equations.\n",
    "\n",
    "It's important to note that the `np.linalg.solve()` function assumes that the system of equations has a unique solution. If the system is singular or overdetermined, an error may occur. In such cases, you may need to consider alternative methods, such as least squares regression.\n",
    "\n",
    "Solving linear equations is a fundamental operation in various mathematical and scientific applications, including optimization problems, data fitting, and signal processing. `Numpy`'s `np.linalg.solve()` function provides a straightforward and efficient way to find the solutions, allowing you to tackle these problems effectively in your machine learning and numerical computing tasks."
   ]
  },
  {
   "cell_type": "markdown",
   "id": "63335353",
   "metadata": {},
   "source": [
    "\n",
    "# [Table of Content](#0)"
   ]
  },
  {
   "cell_type": "code",
   "execution_count": null,
   "id": "4d2c4eaa",
   "metadata": {},
   "outputs": [],
   "source": []
  }
 ],
 "metadata": {
  "kernelspec": {
   "display_name": "Python 3 (ipykernel)",
   "language": "python",
   "name": "python3"
  },
  "language_info": {
   "codemirror_mode": {
    "name": "ipython",
    "version": 3
   },
   "file_extension": ".py",
   "mimetype": "text/x-python",
   "name": "python",
   "nbconvert_exporter": "python",
   "pygments_lexer": "ipython3",
   "version": "3.10.10"
  }
 },
 "nbformat": 4,
 "nbformat_minor": 5
}
