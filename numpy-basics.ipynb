{
 "cells": [
  {
   "cell_type": "markdown",
   "id": "455b65b1",
   "metadata": {},
   "source": [
    "## Duration:\n",
    "\n",
    "## Difficulty:\n",
    "\n",
    "## Prerequisites:"
   ]
  },
  {
   "cell_type": "markdown",
   "id": "991eb26a",
   "metadata": {},
   "source": [
    "<a name='0'></a>\n",
    "## Table of Content:\n",
    "\n",
    "- [1. Introduction to Numpy](#1)\n",
    "    - [1.1. What is Numpy and why it is essential for machine learning?](#1-1)\n",
    "    - [1.2. Installing Numpy and setting up the development environment](#1-2)\n",
    "- [2. Numpy Arrays](#2)\n",
    "    - [2.1. Creating Numpy arrays using np.array()](#2-1)\n",
    "    - [2.2. Understanding array shapes and dimensions](#2-2)\n",
    "    - [2.3. Analogy between Numpy arrays and mathematical data structures](#2-3)\n",
    "    - [2.4. Accessing and modifying array elements](#2-4)\n",
    "    - [2.5. Basic array operations (element-wise operations, broadcasting)](#2-5)\n",
    "- [3. Array Initialisation and Attributes](#3)\n",
    "    - [3.1. Creating arrays with specific values (np.zeros(), np.ones(), np.full(), etc.)](#3-1)\n",
    "    - [3.2. Generating arrays with a range of values (np.arange(), np.linspace(), etc.)](#3-2)\n",
    "    - [3.3. Array attributes (shape, size, data type, etc.)](#3-3)\n",
    "- [4. Array Operations](#4)\n",
    "    - [4.1. Mathematical operations with arrays (+, -, *, /, etc.)](#4-1)\n",
    "    - [4.2. Array aggregation functions (np.sum(), np.mean(), np.min(), np.max(), etc.)](#4-2)\n",
    "    - [4.3. Array transformations (np.reshape(), np.transpose(), etc.)](#4-3)\n",
    "\n",
    "\n",
    "\n",
    "\n",
    "\n",
    "\n",
    "\n",
    "\n",
    "    \n",
    "    "
   ]
  },
  {
   "cell_type": "markdown",
   "id": "6a0b4b3f",
   "metadata": {},
   "source": [
    "- Add a note that this tutorial is for educational purposes and it's not comprehensive or not replace the official documentation in anyway...\n",
    "- Add duration\n",
    "- Add level/difficulty"
   ]
  },
  {
   "cell_type": "markdown",
   "id": "3427ef1a",
   "metadata": {},
   "source": [
    "<a name='1'></a>\n",
    "# 1. Introduction to Numpy"
   ]
  },
  {
   "cell_type": "markdown",
   "id": "29e3d673",
   "metadata": {},
   "source": [
    "<a name='1-1'></a>\n",
    "## 1.1. What is Numpy and why it is essential for machine learning?\n",
    "\n",
    "`Numpy` is a powerful Python library that stands for _'Numerical Python'_. It provides support for large, multi-dimensional arrays and matrices, along with a vast collection of mathematical functions to operate on these arrays efficiently. \n",
    "\n",
    "`Numpy` is essential for machine learning because it enables fast and efficient numerical computations, making it possible to work with large datasets and perform complex mathematical operations with ease. Its ability to handle arrays and matrices efficiently allows for concise and optimized code implementations of various machine learning algorithms."
   ]
  },
  {
   "cell_type": "markdown",
   "id": "c0389d45",
   "metadata": {},
   "source": [
    "<a name='1-2'></a>\n",
    "## 1.2. Installing Numpy and setting up the development environment\n",
    "\n",
    "To get started with `Numpy`, we first need to install the library and set up our development environment. Follow the steps below to install `Numpy` and set up a Jupyter notebook:\n",
    "\n",
    "### Step 1: Install Numpy\n",
    "\n",
    "1. Open your command prompt or terminal (e.g., Press Command + Space Bar on your Mac keyboard and Type in “Terminal\").\n",
    "2. If you have Python installed, you can install `Numpy` by running the following command:\n",
    "`pip install numpy`. This command will download and install `Numpy` from the Python Package Index (PyPI).\n",
    "\n",
    "### Step 2: Set up Jupyter Notebook\n",
    "\n",
    "Jupyter Notebook is an interactive coding environment that allows you to create and share documents containing code, visualizations, and explanatory text. Here's how to set it up:\n",
    "\n",
    "1. Install Jupyter Notebook by running the following command in your command prompt or terminal: `pip install jupyter`\n",
    "2. Launch Jupyter Notebook by typing the following command and pressing Enter: `jupyter notebook`. This will open Jupyter Notebook in your default web browser.\n",
    "3. In the Jupyter Notebook interface, click on \"New\" and select \"Python 3\" to create a new Python notebook.\n",
    "\n",
    "### Step 3: Importing Numpy\n",
    "\n",
    "In your Jupyter notebook, you need to import the `Numpy` library before using its functions and features. To import Numpy, add the following line of code at the beginning of your notebook:\n",
    "\n",
    "**Note:** By convention, `Numpy` is often imported with the alias `np`, which allows us to use the shorthand notation `np` when referring to `Numpy` functions throughout our notebook.\n",
    "\n",
    "That's it! You have successfully installed `Numpy` and set up your Jupyter notebook environment. Now, you're ready to dive into the basics of `Numpy` and explore its powerful capabilities for machine learning."
   ]
  },
  {
   "cell_type": "markdown",
   "id": "9cd6ea23",
   "metadata": {},
   "source": [
    "<a name='2'></a>\n",
    "# 2. Numpy Arrays"
   ]
  },
  {
   "cell_type": "markdown",
   "id": "59833e11",
   "metadata": {},
   "source": [
    "`Numpy` arrays are the foundation of the `Numpy` library and provide a powerful way to store and manipulate data. In this section, we will explore various aspects of `Numpy` arrays, starting with creating arrays using the `np.array()` function."
   ]
  },
  {
   "cell_type": "markdown",
   "id": "e35a2f92",
   "metadata": {},
   "source": [
    "<a name='2-1'></a>\n",
    "### 2.1. Creating Numpy arrays using np.array()\n",
    "\n",
    "To create a `Numpy` array, you can use the `np.array()` function and provide a Python list or tuple as an argument. The `np.array()` function converts the input into a Numpy array. Here's an example:"
   ]
  },
  {
   "cell_type": "code",
   "execution_count": 10,
   "id": "f9101da9",
   "metadata": {},
   "outputs": [
    {
     "name": "stdout",
     "output_type": "stream",
     "text": [
      "[1 2 3 4 5]\n"
     ]
    }
   ],
   "source": [
    "# Create a Numpy array from a Python list\n",
    "my_list = [1, 2, 3, 4, 5]\n",
    "my_array = np.array(my_list)\n",
    "\n",
    "print(my_array)"
   ]
  },
  {
   "cell_type": "markdown",
   "id": "1f669861",
   "metadata": {},
   "source": [
    "In the example above, we created a `Numpy` array `my_array` from a Python list `my_list` using the `np.array()` function. The resulting `Numpy` array contains the same elements as the original list.\n",
    "\n",
    "`Numpy` arrays are homogeneous, meaning they can only contain elements of the same data type. If the elements in the input list have different data types, Numpy will attempt to convert them to a common data type. For example:"
   ]
  },
  {
   "cell_type": "code",
   "execution_count": 11,
   "id": "437a9bea",
   "metadata": {},
   "outputs": [
    {
     "name": "stdout",
     "output_type": "stream",
     "text": [
      "['1' '2.5' 'hello' 'True']\n"
     ]
    }
   ],
   "source": [
    "my_list = [1, 2.5, \"hello\", True]\n",
    "my_array = np.array(my_list)\n",
    "\n",
    "print(my_array)"
   ]
  },
  {
   "cell_type": "markdown",
   "id": "ebdf0e09",
   "metadata": {},
   "source": [
    "In this case, the elements in the input list have different data types (integer, float, string, and a boolean). `Numpy` converts all the elements to strings, resulting in a `Numpy` array of strings.\n",
    "\n",
    "It's important to note that `Numpy` arrays are fixed in size once created. If you try to append or remove elements from a Numpy array, a new array will be created with the updated elements. Therefore, Numpy arrays are not designed to be dynamically resizable like Python lists.\n",
    "\n",
    "That's it for creating `Numpy` arrays using the `np.array()` function."
   ]
  },
  {
   "cell_type": "markdown",
   "id": "f9be73d1",
   "metadata": {},
   "source": [
    "<a name='2-2'></a>\n",
    "### 2.2. Understanding array shapes and dimensions"
   ]
  },
  {
   "cell_type": "markdown",
   "id": "e373450c",
   "metadata": {},
   "source": [
    "`Numpy` arrays can have different shapes and dimensions, which define the structure and size of the array. In this subsection, we will explore how to determine the shape and dimensions of a `Numpy` array."
   ]
  },
  {
   "cell_type": "markdown",
   "id": "b3b415cd",
   "metadata": {},
   "source": [
    "#### Shape of an Array\n",
    "\n",
    "The shape of a `Numpy` array refers to the number of elements along each dimension of the array. You can access the shape of an array using the `shape` attribute. Here's an example:"
   ]
  },
  {
   "cell_type": "code",
   "execution_count": 12,
   "id": "c7b5d355",
   "metadata": {},
   "outputs": [
    {
     "name": "stdout",
     "output_type": "stream",
     "text": [
      "(2, 3)\n"
     ]
    }
   ],
   "source": [
    "my_array = np.array([[1, 2, 3], [4, 5, 6]])\n",
    "print(my_array.shape)"
   ]
  },
  {
   "cell_type": "markdown",
   "id": "4240cbe5",
   "metadata": {},
   "source": [
    "In this example, my_array is a **2-dimensional** array with 2 rows and 3 columns. The shape attribute returns a tuple `(2, 3)` indicating the shape of the array.\n",
    "\n",
    "If you have a **1-dimensional** array, the shape will be a single number representing the size of the array. For example:"
   ]
  },
  {
   "cell_type": "code",
   "execution_count": 13,
   "id": "3520b7e4",
   "metadata": {},
   "outputs": [
    {
     "name": "stdout",
     "output_type": "stream",
     "text": [
      "(5,)\n"
     ]
    }
   ],
   "source": [
    "my_array = np.array([1, 2, 3, 4, 5])\n",
    "print(my_array.shape)"
   ]
  },
  {
   "cell_type": "markdown",
   "id": "2f052829",
   "metadata": {},
   "source": [
    "In this case, `my_array` is a **1-dimensional** array with 5 elements. The `shape` attribute returns a tuple `(5,)` indicating the shape of the array. \n",
    "\n",
    "Here's an example of a **3-dimensional** array:"
   ]
  },
  {
   "cell_type": "code",
   "execution_count": 15,
   "id": "7fc7787a",
   "metadata": {},
   "outputs": [
    {
     "name": "stdout",
     "output_type": "stream",
     "text": [
      "(3, 3, 3)\n"
     ]
    }
   ],
   "source": [
    "my_array = np.array([ [[1, 2, 3], [4, 5, 6], [7, 8, 9]], [[1, 2, 3], [4, 5, 6], [7, 8, 9]], [[1, 2, 3], [4, 5, 6], [7, 8, 9]] ])\n",
    "print(my_array.shape)"
   ]
  },
  {
   "cell_type": "markdown",
   "id": "a067eda3",
   "metadata": {},
   "source": [
    "#### Dimensions of an Array\n",
    "\n",
    "The dimensions of a `Numpy` array refer to the number of axes or dimensions it has. You can determine the number of dimensions using the `ndim` attribute. Here's an example:"
   ]
  },
  {
   "cell_type": "code",
   "execution_count": 16,
   "id": "fabffd8e",
   "metadata": {},
   "outputs": [
    {
     "name": "stdout",
     "output_type": "stream",
     "text": [
      "2\n"
     ]
    }
   ],
   "source": [
    "my_array = np.array([[1, 2, 3], [4, 5, 6]])\n",
    "print(my_array.ndim)"
   ]
  },
  {
   "cell_type": "markdown",
   "id": "bf6b8fb7",
   "metadata": {},
   "source": [
    "In this example, `my_array` is a **2-dimensional** array, so the `ndim` attribute returns `2`.\n",
    "\n",
    "If you have a **1-dimensional** array, the `ndim` attribute will return `1`. For example:"
   ]
  },
  {
   "cell_type": "code",
   "execution_count": 17,
   "id": "d83beb9a",
   "metadata": {},
   "outputs": [
    {
     "name": "stdout",
     "output_type": "stream",
     "text": [
      "1\n"
     ]
    }
   ],
   "source": [
    "my_array = np.array([1, 2, 3, 4, 5])\n",
    "print(my_array.ndim)"
   ]
  },
  {
   "cell_type": "markdown",
   "id": "167e6b8c",
   "metadata": {},
   "source": [
    "Understanding the shape and dimensions of a `Numpy` array is crucial when working with multi-dimensional arrays, as it helps you correctly access and manipulate the array elements."
   ]
  },
  {
   "cell_type": "markdown",
   "id": "892ed87f",
   "metadata": {},
   "source": [
    "<a name='2-3'></a>\n",
    "### 2.3. Analogy between Numpy arrays and mathematical data structures"
   ]
  },
  {
   "cell_type": "markdown",
   "id": "72b4933a",
   "metadata": {},
   "source": [
    "`Numpy` arrays can be thought of as multi-dimensional counterparts to **basic mathematical data structures** such as **scalars**, **vectors**, and **matrices**. Here's an analogy to help you understand this relationship:\n",
    "\n",
    "1. **Scalars:**\n",
    "- In mathematics, a scalar is a single numerical value, representing magnitude but not direction.\n",
    "- In `Numpy`, a scalar is the simplest form of an array, with zero dimensions. It represents a single value.\n",
    "- Analogously, a `Numpy` scalar can be seen as the equivalent of a scalar in mathematics.\n",
    "\n",
    "2. Vectors:\n",
    "- In mathematics, a vector is a one-dimensional array of values, with both magnitude and direction.\n",
    "- In `Numpy`, a one-dimensional array represents a vector.\n",
    "- Analogously, a `Numpy` one-dimensional array can be seen as the equivalent of a vector in mathematics.\n",
    "\n",
    "3. Matrices:\n",
    "- In mathematics, a matrix is a two-dimensional array of values, arranged in rows and columns.\n",
    "- In `Numpy`, a two-dimensional array represents a matrix.\n",
    "- Analogously, a `Numpy` two-dimensional array can be seen as the equivalent of a matrix in mathematics.\n",
    "\n",
    "4. n-dimensional arrays:\n",
    "- In mathematics, higher-dimensional arrays can be thought of as extensions of vectors and matrices.\n",
    "- In `Numpy`, n-dimensional arrays represent arrays with more than two dimensions.\n",
    "- Analogously, a `Numpy` n-dimensional array can be seen as the extension of vectors and matrices to higher dimensions.\n",
    "\n",
    "By leveraging the power of n-dimensional arrays, `Numpy` provides a versatile framework for handling and manipulating data in various dimensions, making it well-suited for tasks in **machine learning** and **scientific computing**.\n",
    "\n",
    "**Note:** It's important to note that while the analogy helps in understanding the relationship between `Numpy` arrays and mathematical data structures, `Numpy` arrays also have additional capabilities and functionalities specific to array operations, broadcasting, and other numerical computations."
   ]
  },
  {
   "cell_type": "markdown",
   "id": "0501c283",
   "metadata": {},
   "source": [
    "<a name='2-4'></a>\n",
    "### 2.4. Accessing and modifying array elements"
   ]
  },
  {
   "cell_type": "markdown",
   "id": "9f1a0b91",
   "metadata": {},
   "source": [
    "`Numpy` arrays provide convenient ways to access and modify individual elements or subsets of elements within the array."
   ]
  },
  {
   "cell_type": "markdown",
   "id": "28c62429",
   "metadata": {},
   "source": [
    "#### Accessing Array Elements\n",
    "\n",
    "You can access specific elements in a `Numpy` array using indexing. `Numpy` arrays are zero-indexed, which means the first element has an index of `0`. Here are a few examples:"
   ]
  },
  {
   "cell_type": "code",
   "execution_count": 21,
   "id": "55b308b1",
   "metadata": {},
   "outputs": [
    {
     "name": "stdout",
     "output_type": "stream",
     "text": [
      "1\n",
      "3\n",
      "5\n"
     ]
    }
   ],
   "source": [
    "my_array = np.array([1, 2, 3, 4, 5])\n",
    "\n",
    "# Access the first element\n",
    "print(my_array[0])  # Output: 1\n",
    "\n",
    "# Access the third element\n",
    "print(my_array[2])  # Output: 3\n",
    "\n",
    "# Access the last element\n",
    "print(my_array[-1])  # Output: 5"
   ]
  },
  {
   "cell_type": "markdown",
   "id": "83311563",
   "metadata": {},
   "source": [
    "In this example, `my_array` is a **1-dimensional** array. We use square brackets `[]` with the desired index to access specific elements. Negative indices can be used to access elements from the end of the array.\n",
    "\n",
    "For multi-dimensional arrays, you can use multiple indices to access elements in different dimensions. Here's an example with a **2-dimensional** array:"
   ]
  },
  {
   "cell_type": "code",
   "execution_count": 25,
   "id": "98aa1795",
   "metadata": {},
   "outputs": [
    {
     "name": "stdout",
     "output_type": "stream",
     "text": [
      "2\n",
      "6\n"
     ]
    }
   ],
   "source": [
    "my_array = np.array([[1, 2, 3], [4, 5, 6]])\n",
    "\n",
    "# Access the element at row 0, column 1\n",
    "print(my_array[0, 1])  # Output: 2\n",
    "\n",
    "# Access the element at row 1, column 2\n",
    "print(my_array[1, 2])  # Output: 6"
   ]
  },
  {
   "cell_type": "markdown",
   "id": "7142eb09",
   "metadata": {},
   "source": [
    "In this case, `my_array` is a **2-dimensional** array. We use comma-separated indices within the square brackets to access specific elements based on their row and column positions."
   ]
  },
  {
   "cell_type": "markdown",
   "id": "75489189",
   "metadata": {},
   "source": [
    "#### Modifying Array Elements\n",
    "\n",
    "`Numpy` arrays allow you to modify individual elements or subsets of elements by assigning new values. Here are a few examples:"
   ]
  },
  {
   "cell_type": "code",
   "execution_count": 29,
   "id": "37527e89",
   "metadata": {},
   "outputs": [
    {
     "name": "stdout",
     "output_type": "stream",
     "text": [
      "[ 1 10  3  4  5]\n",
      "[ 1 10 20 30 40]\n"
     ]
    }
   ],
   "source": [
    "my_array = np.array([1, 2, 3, 4, 5])\n",
    "\n",
    "# Modify the second element\n",
    "my_array[1] = 10\n",
    "print(my_array)  # Output: [1, 10, 3, 4, 5]\n",
    "\n",
    "# Modify a subset of elements (from the third element to the last element)\n",
    "my_array[2:] = [20, 30, 40]\n",
    "print(my_array)  # Output: [1, 10, 20, 30, 40]"
   ]
  },
  {
   "cell_type": "markdown",
   "id": "5678e4f4",
   "metadata": {},
   "source": [
    "In this example, we first modify the second element of `my_array` by assigning a new value. Then, we modify a subset of elements from index 2 to 4 (inclusive) by assigning a new list of values.\n",
    "\n",
    "For multi-dimensional arrays, you can modify elements in a similar way using indexing. Here's an example:"
   ]
  },
  {
   "cell_type": "code",
   "execution_count": 30,
   "id": "e2b3ab3a",
   "metadata": {},
   "outputs": [
    {
     "name": "stdout",
     "output_type": "stream",
     "text": [
      "[[ 1  2  3]\n",
      " [10  5  6]]\n"
     ]
    }
   ],
   "source": [
    "my_array = np.array([[1, 2, 3], [4, 5, 6]])\n",
    "\n",
    "# Modify the element at row 1, column 0\n",
    "my_array[1, 0] = 10\n",
    "print(my_array)"
   ]
  },
  {
   "cell_type": "markdown",
   "id": "4546f48c",
   "metadata": {},
   "source": [
    "In this case, we modify the element at row `1` and column `0` by assigning a new value.\n",
    "\n",
    "Understanding how to access and modify array elements is fundamental when working with Numpy arrays, as it allows you to extract and update the data within the arrays based on your specific needs."
   ]
  },
  {
   "cell_type": "markdown",
   "id": "239af7c9",
   "metadata": {},
   "source": [
    "<a name='2-5'></a>\n",
    "### 2.5. Basic array operations (element-wise operations, broadcasting)"
   ]
  },
  {
   "cell_type": "markdown",
   "id": "3916289b",
   "metadata": {},
   "source": [
    "`Numpy` arrays support various basic operations that can be performed element-wise on the arrays. These operations include arithmetic operations, mathematical functions, and logical operations. In this subsection, we will explore how to perform element-wise operations and utilize broadcasting in `Numpy`."
   ]
  },
  {
   "cell_type": "markdown",
   "id": "fc33e1ee",
   "metadata": {},
   "source": [
    "#### Element-wise Operations\n",
    "\n",
    "Element-wise operations allow you to perform arithmetic operations or apply mathematical functions to each element in a `Numpy` array independently. Here are a few examples:"
   ]
  },
  {
   "cell_type": "code",
   "execution_count": 33,
   "id": "b4216a3e",
   "metadata": {},
   "outputs": [
    {
     "name": "stdout",
     "output_type": "stream",
     "text": [
      "[3 4 5 6 7]\n",
      "[-1  0  1  2  3]\n",
      "[ 2  4  6  8 10]\n",
      "[0.5 1.  1.5 2.  2.5]\n",
      "[ 1  4  9 16 25]\n"
     ]
    }
   ],
   "source": [
    "my_array = np.array([1, 2, 3, 4, 5])\n",
    "\n",
    "# Addition\n",
    "result_add = my_array + 2\n",
    "print(result_add)  # Output: [3, 4, 5, 6, 7]\n",
    "\n",
    "# Subtraction\n",
    "result_subtract = my_array - 2\n",
    "print(result_subtract)  # Output: [-1, 0, 1, 2, 3]\n",
    "\n",
    "# Multiplication\n",
    "result_multiply = my_array * 2\n",
    "print(result_multiply)  # Output: [2, 4, 6, 8, 10]\n",
    "\n",
    "# Division\n",
    "result_divide = my_array / 2\n",
    "print(result_divide)  # Output: [0.5, 1.0, 1.5, 2.0, 2.5]\n",
    "\n",
    "# Exponentiation\n",
    "result_power = my_array ** 2\n",
    "print(result_power)  # Output: [1, 4, 9, 16, 25]"
   ]
  },
  {
   "cell_type": "markdown",
   "id": "170edc72",
   "metadata": {},
   "source": [
    "In this example, we perform various arithmetic operations (addition, subtraction, multiplication, division, and exponentiation) on `my_array`, resulting in new arrays with the element-wise operation applied.\n",
    "\n",
    "`Numpy` also provides a wide range of mathematical functions that can be applied element-wise to arrays, such as `np.sin()`, `np.cos()`, `np.exp()`, etc. Here's an example:"
   ]
  },
  {
   "cell_type": "code",
   "execution_count": 35,
   "id": "e16a591d",
   "metadata": {},
   "outputs": [
    {
     "name": "stdout",
     "output_type": "stream",
     "text": [
      "[0.0000000e+00 1.0000000e+00 1.2246468e-16]\n",
      "[ 1.          4.81047738 23.14069263]\n"
     ]
    }
   ],
   "source": [
    "my_array = np.array([0, np.pi/2, np.pi])\n",
    "\n",
    "# Sine function\n",
    "result_sin = np.sin(my_array)\n",
    "print(result_sin)  # Output: [0.0, 1.0, 1.2246468e-16]\n",
    "\n",
    "# Exponential function\n",
    "result_exp = np.exp(my_array)\n",
    "print(result_exp)  # Output: [ 1., 4.81047738, 23.14069263]"
   ]
  },
  {
   "cell_type": "markdown",
   "id": "730ed12b",
   "metadata": {},
   "source": [
    "In this case, we apply the `np.sin()` and `np.exp()` functions to `my_array`, resulting in new arrays with the element-wise function applied."
   ]
  },
  {
   "cell_type": "markdown",
   "id": "70ad2926",
   "metadata": {},
   "source": [
    "#### Broadcasting\n",
    "\n",
    "Broadcasting is a powerful feature in `Numpy` that enables operations between arrays of different shapes or dimensions. `Numpy` automatically performs broadcasting when certain conditions are met. Here's an example:"
   ]
  },
  {
   "cell_type": "code",
   "execution_count": 37,
   "id": "af393cbf",
   "metadata": {},
   "outputs": [
    {
     "name": "stdout",
     "output_type": "stream",
     "text": [
      "[[ 2  4  6]\n",
      " [ 8 10 12]]\n"
     ]
    }
   ],
   "source": [
    "my_array = np.array([[1, 2, 3], [4, 5, 6]])\n",
    "scalar = 2\n",
    "\n",
    "result_broadcast = my_array * scalar\n",
    "print(result_broadcast)"
   ]
  },
  {
   "cell_type": "markdown",
   "id": "ea7194bc",
   "metadata": {},
   "source": [
    "In this example, we multiply a **2-dimensional** array my_array with a scalar value `scalar`. `Numpy` automatically broadcasts the `scalar` to match the shape of the array, and the element-wise multiplication is performed accordingly.\n",
    "\n",
    "**Broadcasting** allows for concise and efficient code implementation, eliminating the need for explicit loops or repetitions when operating on arrays of different shapes.\n",
    "\n",
    "Understanding and utilizing element-wise operations and broadcasting in `Numpy` are essential when performing mathematical computations and transformations."
   ]
  },
  {
   "cell_type": "markdown",
   "id": "b19d818a",
   "metadata": {},
   "source": [
    "<a name='3'></a>\n",
    "# 3. Array Initialisation and Attributes"
   ]
  },
  {
   "cell_type": "markdown",
   "id": "a11ce595",
   "metadata": {},
   "source": [
    "In this section, we will explore different methods of initialising `Numpy` arrays with specific values or patterns. We will also learn about various attributes associated with `Numpy` arrays that provide useful information about the array's shape, size, data type, etc."
   ]
  },
  {
   "cell_type": "markdown",
   "id": "84279434",
   "metadata": {},
   "source": [
    "<a name='3-1'></a>\n",
    "### 3.1. Creating arrays with specific values (np.zeros(), np.ones(), np.full(), etc.)"
   ]
  },
  {
   "cell_type": "markdown",
   "id": "858277dd",
   "metadata": {},
   "source": [
    "#### Initializing arrays with a single value\n",
    "You can create an array filled with a single value using the `np.full()` function. Here's an example:"
   ]
  },
  {
   "cell_type": "code",
   "execution_count": 39,
   "id": "1e0accec",
   "metadata": {},
   "outputs": [
    {
     "name": "stdout",
     "output_type": "stream",
     "text": [
      "[[5 5 5]\n",
      " [5 5 5]\n",
      " [5 5 5]]\n"
     ]
    }
   ],
   "source": [
    "# Create a 3x3 matrix filled with value 5\n",
    "my_array = np.full((3, 3), 5)\n",
    "print(my_array)"
   ]
  },
  {
   "cell_type": "markdown",
   "id": "4c8aff13",
   "metadata": {},
   "source": [
    "#### Creating arrays of zeros or ones\n",
    "You can create an array filled with zeros or ones using the `np.zeros()` or `np.ones()` functions. Here's an example:"
   ]
  },
  {
   "cell_type": "code",
   "execution_count": 49,
   "id": "f8c6170f",
   "metadata": {
    "scrolled": true
   },
   "outputs": [
    {
     "name": "stdout",
     "output_type": "stream",
     "text": [
      "[[0. 0. 0.]\n",
      " [0. 0. 0.]]\n",
      "[[1. 1. 1.]\n",
      " [1. 1. 1.]]\n"
     ]
    }
   ],
   "source": [
    "# Create a 2x3 matrix filled with zeros\n",
    "my_zeros_array = np.zeros(shape=(2, 3))\n",
    "print(my_zeros_array)\n",
    "\n",
    "# Create a 2x3 array filled with ones\n",
    "my_ones_array = np.ones(shape=(2, 3))\n",
    "print(my_ones_array)"
   ]
  },
  {
   "cell_type": "markdown",
   "id": "0b1294db",
   "metadata": {},
   "source": [
    "#### Generating random arrays\n",
    "`Numpy` provides functions to generate random arrays with different distributions. Here's an example:"
   ]
  },
  {
   "cell_type": "code",
   "execution_count": 50,
   "id": "dee479e1",
   "metadata": {},
   "outputs": [
    {
     "name": "stdout",
     "output_type": "stream",
     "text": [
      "[[ 0.56304351 -0.98598801 -1.1967482 ]\n",
      " [ 1.41891495  0.03252234 -0.71940226]\n",
      " [ 0.15576343 -2.01528573  0.76977121]]\n"
     ]
    }
   ],
   "source": [
    "# Create a 3x3 matrix with random values from a standard normal distribution\n",
    "my_random_array = np.random.randn(3, 3)\n",
    "print(my_random_array)"
   ]
  },
  {
   "cell_type": "markdown",
   "id": "ea13ae12",
   "metadata": {},
   "source": [
    "**Note:** `np.random.randn` generates an array ofilled with random floats sampled from a univariate “normal” (Gaussian) distribution of mean `0` and variance `1`. "
   ]
  },
  {
   "cell_type": "markdown",
   "id": "124e3e31",
   "metadata": {},
   "source": [
    "<a name='3-2'></a>\n",
    "### 3.2. Generating arrays with a range of values (np.arange(), np.linspace(), etc.)\n",
    "You can create an array with a sequence of values using the `np.arange()` or `np.linspace()` functions. Here are examples of both:"
   ]
  },
  {
   "cell_type": "code",
   "execution_count": 40,
   "id": "faf58305",
   "metadata": {},
   "outputs": [
    {
     "name": "stdout",
     "output_type": "stream",
     "text": [
      "[0 1 2 3 4 5 6 7 8 9]\n",
      "[0.   0.25 0.5  0.75 1.  ]\n"
     ]
    }
   ],
   "source": [
    "# Create an array with values from 0 to 10 (exclusive)\n",
    "my_array1 = np.arange(10)\n",
    "print(my_array1)  # Output: [0 1 2 3 4 5 6 7 8 9]\n",
    "\n",
    "# Create an array with 5 equally spaced values from 0 to 1 (inclusive)\n",
    "my_array2 = np.linspace(0, 1, 5)\n",
    "print(my_array2)  # Output: [0.   0.25 0.5  0.75 1.  ]"
   ]
  },
  {
   "cell_type": "markdown",
   "id": "c97d6223",
   "metadata": {},
   "source": [
    "<a name='3-3'></a>\n",
    "### 3.3. Array attributes (shape, size, data type, etc.)"
   ]
  },
  {
   "cell_type": "markdown",
   "id": "9f2d24a0",
   "metadata": {},
   "source": [
    "In this sub-section, we will explore various attributes associated with `Numpy` arrays that provide useful information about the array."
   ]
  },
  {
   "cell_type": "markdown",
   "id": "f6108d9c",
   "metadata": {},
   "source": [
    "#### Shape of the array\n",
    "The shape of an array refers to its dimensions. You can access the shape attribute of a `Numpy` array using the `.shape` property. Here's an example:"
   ]
  },
  {
   "cell_type": "code",
   "execution_count": 51,
   "id": "476b0292",
   "metadata": {},
   "outputs": [
    {
     "name": "stdout",
     "output_type": "stream",
     "text": [
      "(2, 3)\n"
     ]
    }
   ],
   "source": [
    "my_array = np.array([[1, 2, 3], [4, 5, 6]])\n",
    "print(my_array.shape)  # Output: (2, 3)"
   ]
  },
  {
   "cell_type": "markdown",
   "id": "a45c71f9",
   "metadata": {},
   "source": [
    "In this example, the shape of `my_array` is `(2, 3)`, indicating that it has `2` rows and `3` columns."
   ]
  },
  {
   "cell_type": "markdown",
   "id": "f1648b92",
   "metadata": {},
   "source": [
    "#### Dimensions and size of the array\n",
    "The number of dimensions of an array can be obtained using the `.ndim` property, and the total number of elements in the array can be obtained using the `.size` property. Here's an example:"
   ]
  },
  {
   "cell_type": "code",
   "execution_count": 54,
   "id": "c1662436",
   "metadata": {},
   "outputs": [
    {
     "name": "stdout",
     "output_type": "stream",
     "text": [
      "2\n",
      "6\n"
     ]
    }
   ],
   "source": [
    "my_array = np.array([[1, 2, 3], [4, 5, 6]])\n",
    "print(my_array.ndim)  # Output: 2\n",
    "print(my_array.size)  # Output: 6"
   ]
  },
  {
   "cell_type": "markdown",
   "id": "c5a4e18e",
   "metadata": {},
   "source": [
    "In this example, `my_array` has `2` dimensions and a total of `6` elements."
   ]
  },
  {
   "cell_type": "markdown",
   "id": "fdeb728e",
   "metadata": {},
   "source": [
    "#### Data type of the array\n",
    "The data type of an array can be accessed using the `.dtype` property. Here's an example:"
   ]
  },
  {
   "cell_type": "code",
   "execution_count": 56,
   "id": "d68db492",
   "metadata": {},
   "outputs": [
    {
     "name": "stdout",
     "output_type": "stream",
     "text": [
      "int64\n"
     ]
    }
   ],
   "source": [
    "my_array = np.array([1, 2, 3])\n",
    "print(my_array.dtype)  # Output: int64"
   ]
  },
  {
   "cell_type": "markdown",
   "id": "200572b1",
   "metadata": {},
   "source": [
    "In this example, the data type of `my_array` is `int64`, indicating that it contains 64-bit integers."
   ]
  },
  {
   "cell_type": "markdown",
   "id": "0eb9153e",
   "metadata": {},
   "source": [
    "#### Number of elements in the array\n",
    "The number of elements in an array can be obtained using the `len()` function. Here's an example:"
   ]
  },
  {
   "cell_type": "code",
   "execution_count": 62,
   "id": "fa0d95dc",
   "metadata": {},
   "outputs": [
    {
     "name": "stdout",
     "output_type": "stream",
     "text": [
      "3\n"
     ]
    }
   ],
   "source": [
    "my_array = np.array([1, 2, 3])\n",
    "print(len(my_array))  # Output: 3"
   ]
  },
  {
   "cell_type": "markdown",
   "id": "f6c5bb75",
   "metadata": {},
   "source": [
    "In this example, `my_array` contains `3` elements.\n",
    "\n",
    "**Note:** In the case of n-dimensional arrays ($n>1$), `len()` will give you the number of 'elements' of the first dimension whereas the attribute `.size` will give you the number of 'elements' in the array. Here's an example:"
   ]
  },
  {
   "cell_type": "code",
   "execution_count": 66,
   "id": "1907091c",
   "metadata": {},
   "outputs": [
    {
     "data": {
      "text/plain": [
       "9"
      ]
     },
     "execution_count": 66,
     "metadata": {},
     "output_type": "execute_result"
    }
   ],
   "source": [
    "my_array = np.ones(shape=(3,3))\n",
    "len(my_array) # Output: 3\n",
    "my_array.size # Output: 9"
   ]
  },
  {
   "cell_type": "markdown",
   "id": "db7faeb6",
   "metadata": {},
   "source": [
    "#### Memory consumption of the array (optional)\n",
    "The memory consumed of an array obtained by using the `.nbytes` property which can also be calculated by multiplying its size (number of elements) with the item size (memory size of each element). Here's an example:"
   ]
  },
  {
   "cell_type": "code",
   "execution_count": 67,
   "id": "f174f193",
   "metadata": {},
   "outputs": [
    {
     "name": "stdout",
     "output_type": "stream",
     "text": [
      "24\n"
     ]
    }
   ],
   "source": [
    "my_array = np.array([1, 2, 3])\n",
    "print(my_array.nbytes)  # Output: 24"
   ]
  },
  {
   "cell_type": "markdown",
   "id": "fd8dce8c",
   "metadata": {},
   "source": [
    "In this example, `my_array` consumes `24` bytes of memory (assuming each integer element requires `8` bytes)."
   ]
  },
  {
   "cell_type": "code",
   "execution_count": 71,
   "id": "07414694",
   "metadata": {},
   "outputs": [
    {
     "data": {
      "text/plain": [
       "72"
      ]
     },
     "execution_count": 71,
     "metadata": {},
     "output_type": "execute_result"
    }
   ],
   "source": [
    "my_array = np.full(shape=(3,3), fill_value=.5)\n",
    "my_array.nbytes"
   ]
  },
  {
   "cell_type": "markdown",
   "id": "eca75ef6",
   "metadata": {},
   "source": [
    "<a name='4'></a>\n",
    "# 4. Array Operations"
   ]
  },
  {
   "cell_type": "markdown",
   "id": "dda08aa9",
   "metadata": {},
   "source": [
    "In this section, we will explore various mathematical operations that can be performed on `Numpy` arrays, such as addition, subtraction, multiplication, division, exponentiation, and more."
   ]
  },
  {
   "cell_type": "markdown",
   "id": "27b98f42",
   "metadata": {},
   "source": [
    "<a name='4-1'></a>\n",
    "### 4.1. Mathematical operations with arrays (+, -, *, /, etc.)"
   ]
  },
  {
   "cell_type": "markdown",
   "id": "04eb68bd",
   "metadata": {},
   "source": [
    "`Numpy` provides element-wise operations for mathematical operations between arrays, allowing you to perform arithmetic operations on corresponding elements of two or more arrays. Here's how it works:"
   ]
  },
  {
   "cell_type": "code",
   "execution_count": 74,
   "id": "207c77bd",
   "metadata": {},
   "outputs": [
    {
     "name": "stdout",
     "output_type": "stream",
     "text": [
      "Addition: [5 7 9]\n",
      "Subtraction: [-3 -3 -3]\n",
      "Multiplication: [ 4 10 18]\n",
      "Division: [0.25 0.4  0.5 ]\n",
      "Exponentiation: [  1  32 729]\n"
     ]
    }
   ],
   "source": [
    "# Creating two arrays\n",
    "arr1 = np.array([1, 2, 3])\n",
    "arr2 = np.array([4, 5, 6])\n",
    "\n",
    "# Addition\n",
    "add_result = arr1 + arr2\n",
    "print(\"Addition:\", add_result)\n",
    "\n",
    "# Subtraction\n",
    "sub_result = arr1 - arr2\n",
    "print(\"Subtraction:\", sub_result)\n",
    "\n",
    "# Multiplication\n",
    "mul_result = arr1 * arr2\n",
    "print(\"Multiplication:\", mul_result)\n",
    "\n",
    "# Division\n",
    "div_result = arr1 / arr2\n",
    "print(\"Division:\", div_result)\n",
    "\n",
    "# Exponentiation\n",
    "exp_result = arr1 ** arr2\n",
    "print(\"Exponentiation:\", exp_result)"
   ]
  },
  {
   "cell_type": "markdown",
   "id": "ffc05105",
   "metadata": {},
   "source": [
    "In this example, we have two arrays `arr1` and `arr2`. We perform various mathematical operations on these arrays using the corresponding operators `+`, `-`, `*`, `/`, and `**`. The operations are performed element-wise, meaning each element of one array is operated on with the corresponding element of the other array.\n",
    "\n",
    "It's important to note that the arrays involved in the operations must have compatible shapes, or they must be broadcastable to compatible shapes. Broadcasting allows arrays with different shapes to be used in arithmetic operations by automatically extending or duplicating their values to match each other's shapes.\n",
    "\n",
    "`Numpy` also provides many other mathematical functions and operations that can be applied to arrays, such as `np.sin()`, `np.cos()`, `np.sqrt()`, and more. These functions operate element-wise on the array and return a new array with the calculated values."
   ]
  },
  {
   "cell_type": "code",
   "execution_count": 76,
   "id": "eb16e2b5",
   "metadata": {},
   "outputs": [
    {
     "name": "stdout",
     "output_type": "stream",
     "text": [
      "Sine: [0.84147098 0.90929743 0.14112001]\n",
      "Cosine: [ 0.54030231 -0.41614684 -0.9899925 ]\n",
      "Square Root: [1.         1.41421356 1.73205081]\n"
     ]
    }
   ],
   "source": [
    "# Creating an array\n",
    "my_array = np.array([1, 2, 3])\n",
    "\n",
    "# Applying mathematical functions\n",
    "sin_result = np.sin(my_array)\n",
    "print(\"Sine:\", sin_result)\n",
    "\n",
    "cos_result = np.cos(my_array)\n",
    "print(\"Cosine:\", cos_result)\n",
    "\n",
    "sqrt_result = np.sqrt(my_array)\n",
    "print(\"Square Root:\", sqrt_result)"
   ]
  },
  {
   "cell_type": "markdown",
   "id": "67fb16b8",
   "metadata": {},
   "source": [
    "In this example, we apply various mathematical functions (`np.sin()`, `np.cos()`, and `np.sqrt()`) to `my_array` and obtain new arrays with the calculated values.\n",
    "\n",
    "These mathematical operations and functions play a vital role in performing computations on arrays in machine learning and numerical computing tasks, allowing you to manipulate and analyze data efficiently."
   ]
  },
  {
   "cell_type": "markdown",
   "id": "e9714277",
   "metadata": {},
   "source": [
    "<a name='4-2'></a>\n",
    "### 4.2. Array aggregation functions (np.sum(), np.mean(), np.min(), np.max(), etc.)"
   ]
  },
  {
   "cell_type": "markdown",
   "id": "4754cb03",
   "metadata": {},
   "source": [
    "`Numpy` provides a wide range of aggregation functions that allow you to calculate various statistics and properties of `Numpy` arrays. These functions can help you summarize and analyze your data efficiently. Here are some commonly used aggregation functions:"
   ]
  },
  {
   "cell_type": "code",
   "execution_count": 77,
   "id": "bcb29e71",
   "metadata": {},
   "outputs": [
    {
     "name": "stdout",
     "output_type": "stream",
     "text": [
      "Sum: 15\n",
      "Mean: 3.0\n",
      "Minimum: 1\n",
      "Maximum: 5\n"
     ]
    }
   ],
   "source": [
    "# Creating an array\n",
    "my_array = np.array([1, 2, 3, 4, 5])\n",
    "\n",
    "# Sum of array elements\n",
    "sum_result = np.sum(my_array)\n",
    "print(\"Sum:\", sum_result)\n",
    "\n",
    "# Mean of array elements\n",
    "mean_result = np.mean(my_array)\n",
    "print(\"Mean:\", mean_result)\n",
    "\n",
    "# Minimum value in the array\n",
    "min_result = np.min(my_array)\n",
    "print(\"Minimum:\", min_result)\n",
    "\n",
    "# Maximum value in the array\n",
    "max_result = np.max(my_array)\n",
    "print(\"Maximum:\", max_result)"
   ]
  },
  {
   "cell_type": "markdown",
   "id": "1f883838",
   "metadata": {},
   "source": [
    "In this example, we have an array `my_array`, and we apply various aggregation functions to calculate the `sum`, `mean`, `minimum`, and `maximum` values of the array.\n",
    "\n",
    "`Numpy` aggregation functions also support specifying the axis parameter to calculate the aggregation along a specific axis in multi-dimensional arrays. This allows you to perform aggregations row-wise or column-wise. Here's an example:"
   ]
  },
  {
   "cell_type": "code",
   "execution_count": 78,
   "id": "bd1d32f7",
   "metadata": {},
   "outputs": [
    {
     "name": "stdout",
     "output_type": "stream",
     "text": [
      "Sum along rows: [5 7 9]\n",
      "Sum along columns: [ 6 15]\n"
     ]
    }
   ],
   "source": [
    "# Creating a 2D array\n",
    "my_array = np.array([[1, 2, 3],\n",
    "                     [4, 5, 6]])\n",
    "\n",
    "# Sum along the rows (axis=0)\n",
    "sum_rows = np.sum(my_array, axis=0)\n",
    "print(\"Sum along rows:\", sum_rows)\n",
    "\n",
    "# Sum along the columns (axis=1)\n",
    "sum_cols = np.sum(my_array, axis=1)\n",
    "print(\"Sum along columns:\", sum_cols)"
   ]
  },
  {
   "cell_type": "markdown",
   "id": "1265afbb",
   "metadata": {},
   "source": [
    "In this example, we calculate the `sum` along the rows (`axis=0`) and columns (`axis=1`) of the 2D array `my_array`.\n",
    "\n",
    "`Numpy` provides many other aggregation functions, such as `np.median()`, `np.std()`, `np.var()` and more. These functions allow you to calculate the median, standard deviation, variance and other statistical properties of your arrays."
   ]
  },
  {
   "cell_type": "code",
   "execution_count": 80,
   "id": "5b902f16",
   "metadata": {},
   "outputs": [
    {
     "name": "stdout",
     "output_type": "stream",
     "text": [
      "Median: 3.0\n",
      "Standard Deviation: 1.4142135623730951\n",
      "Variance: 2.0\n"
     ]
    }
   ],
   "source": [
    "# Creating an array\n",
    "my_array = np.array([1, 2, 3, 4, 5])\n",
    "\n",
    "# Median of array elements\n",
    "median_result = np.median(my_array)\n",
    "print(\"Median:\", median_result)\n",
    "\n",
    "# Standard deviation of array elements\n",
    "std_result = np.std(my_array)\n",
    "print(\"Standard Deviation:\", std_result)\n",
    "\n",
    "# Variance of array elements\n",
    "var_result = np.var(my_array)\n",
    "print(\"Variance:\", var_result)"
   ]
  },
  {
   "cell_type": "markdown",
   "id": "06037ec6",
   "metadata": {},
   "source": [
    "In this example, we calculate the median, standard deviation, and variance of the array `my_array`.\n",
    "\n",
    "These aggregation functions are essential for analyzing and summarizing data in machine learning and data analysis tasks. They provide valuable insights into the distribution and properties of the arrays."
   ]
  },
  {
   "cell_type": "markdown",
   "id": "8681758a",
   "metadata": {},
   "source": [
    "<a name='4-3'></a>\n",
    "### 4.3. Array transformations (np.reshape(), np.transpose(), etc.)"
   ]
  },
  {
   "cell_type": "markdown",
   "id": "a03d36a0",
   "metadata": {},
   "source": [
    "`Numpy` provides several functions to transform and manipulate the shape and dimensions of `Numpy` arrays. These functions allow you to `reshape`, `transpose`, `concatenate`, and `split` arrays. Let's explore some commonly used array transformation functions."
   ]
  },
  {
   "cell_type": "markdown",
   "id": "8b3f78a9",
   "metadata": {},
   "source": [
    "#### Reshaping arrays using `np.reshape()`\n",
    "The `np.reshape()` function allows you to change the shape of an array while maintaining the same elements. Here's an example:"
   ]
  },
  {
   "cell_type": "code",
   "execution_count": 84,
   "id": "256eb69e",
   "metadata": {},
   "outputs": [
    {
     "name": "stdout",
     "output_type": "stream",
     "text": [
      "2D Array:\n",
      " [[1 2 3]\n",
      " [4 5 6]]\n"
     ]
    }
   ],
   "source": [
    "# Creating a 1D array\n",
    "arr1d = np.array([1, 2, 3, 4, 5, 6])\n",
    "\n",
    "# Reshaping the array to a 2D array\n",
    "arr2d = np.reshape(arr1d, (2, 3))\n",
    "print(\"2D Array:\\n\", arr2d)\n"
   ]
  },
  {
   "cell_type": "markdown",
   "id": "62de5401",
   "metadata": {},
   "source": [
    "In this example, we reshape the 1D array `arr1d` into a 2D array `arr2d` with a shape of `(2, 3)`.\n",
    "\n",
    "**Note:** The total number of elements before and after a reshaping operation should remain the same. For example, if you try: `arr2d = np.reshape(arr1d, (2, 2))`, you'll get a `ValueError`."
   ]
  },
  {
   "cell_type": "markdown",
   "id": "1ae99c53",
   "metadata": {},
   "source": [
    "#### Transposing arrays using `np.transpose()`\n",
    "The `np.transpose()` function allows you to interchange the dimensions of an array. Here's an example:"
   ]
  },
  {
   "cell_type": "code",
   "execution_count": 89,
   "id": "226e0623",
   "metadata": {},
   "outputs": [
    {
     "name": "stdout",
     "output_type": "stream",
     "text": [
      "Transposed Array:\n",
      " [[1 4]\n",
      " [2 5]\n",
      " [3 6]]\n"
     ]
    }
   ],
   "source": [
    "# Creating a 2D array\n",
    "arr2d = np.array([[1, 2, 3],\n",
    "                  [4, 5, 6]])\n",
    "\n",
    "# Transposing the array\n",
    "transposed_arr = np.transpose(arr2d)\n",
    "print(\"Transposed Array:\\n\", transposed_arr)"
   ]
  },
  {
   "cell_type": "markdown",
   "id": "7ac59c79",
   "metadata": {},
   "source": [
    "In this example, we transpose the 2D array `arr2d` by interchanging its rows and columns."
   ]
  },
  {
   "cell_type": "markdown",
   "id": "8cbdb6f8",
   "metadata": {},
   "source": [
    "#### Concatenating arrays using `np.concatenate()`\n",
    "The `np.concatenate()` function allows you to concatenate multiple arrays along a specified axis. Here's an example:"
   ]
  },
  {
   "cell_type": "code",
   "execution_count": 94,
   "id": "508a2203",
   "metadata": {},
   "outputs": [
    {
     "name": "stdout",
     "output_type": "stream",
     "text": [
      "Concatenated Array: [1 2 3 4 5 6]\n"
     ]
    }
   ],
   "source": [
    "# Creating two 1D arrays\n",
    "arr1 = np.array([1, 2, 3])\n",
    "arr2 = np.array([4, 5, 6])\n",
    "\n",
    "# Concatenating the arrays along the axis 0\n",
    "concatenated_arr = np.concatenate((arr1, arr2), axis=0)\n",
    "print(\"Concatenated Array:\", concatenated_arr)"
   ]
  },
  {
   "cell_type": "markdown",
   "id": "612573cb",
   "metadata": {},
   "source": [
    "In this example, we concatenate the two 1D arrays `arr1` and `arr2` along the `axis=0`, resulting in a single 1D array."
   ]
  },
  {
   "cell_type": "markdown",
   "id": "ed70f5c0",
   "metadata": {},
   "source": [
    "#### Stacking arrays using `np.stack()`\n",
    "The `np.stack()` function allows you to stack arrays along a new axis. Here's an example:"
   ]
  },
  {
   "cell_type": "code",
   "execution_count": 98,
   "id": "1c4ceb8f",
   "metadata": {},
   "outputs": [
    {
     "name": "stdout",
     "output_type": "stream",
     "text": [
      "Stacked Array:\n",
      " [[1 2 3]\n",
      " [4 5 6]]\n"
     ]
    }
   ],
   "source": [
    "# Creating two arrays\n",
    "arr1 = np.array([1, 2, 3])\n",
    "arr2 = np.array([4, 5, 6])\n",
    "\n",
    "# Stacking the arrays along a new axis (axis=0)\n",
    "stacked_arr = np.stack((arr1, arr2), axis=0)\n",
    "print(\"Stacked Array:\\n\", stacked_arr)"
   ]
  },
  {
   "cell_type": "markdown",
   "id": "91e82291",
   "metadata": {},
   "source": [
    "In this example, we stack the two 1D arrays `arr1` and `arr2` along a new axis (`axis=0`), resulting in a 2D array."
   ]
  },
  {
   "cell_type": "markdown",
   "id": "e1675e08",
   "metadata": {},
   "source": [
    "#### Horizontally stacking arrays using `np.hstack()`\n",
    "The `np.hstack()` function allows you to horizontally stack arrays. Here's an example:"
   ]
  },
  {
   "cell_type": "code",
   "execution_count": 99,
   "id": "aca93a60",
   "metadata": {},
   "outputs": [
    {
     "name": "stdout",
     "output_type": "stream",
     "text": [
      "Horizontally Stacked Array: [1 2 3 4 5 6]\n"
     ]
    }
   ],
   "source": [
    "arr1 = np.array([1, 2, 3])\n",
    "arr2 = np.array([4, 5, 6])\n",
    "\n",
    "# Horizontally stacking the arrays\n",
    "hstacked_arr = np.hstack((arr1, arr2))\n",
    "print(\"Horizontally Stacked Array:\", hstacked_arr)"
   ]
  },
  {
   "cell_type": "markdown",
   "id": "951223d4",
   "metadata": {},
   "source": [
    "In this example, we horizontally stack the two 1D arrays `arr1` and `arr2`, resulting in a single 1D array."
   ]
  },
  {
   "cell_type": "markdown",
   "id": "6fcebe31",
   "metadata": {},
   "source": [
    "#### Vertically stacking arrays using `np.vstack()`\n",
    "The `np.vstack()` function allows you to vertically stack arrays. Here's an example:"
   ]
  },
  {
   "cell_type": "code",
   "execution_count": 100,
   "id": "fdeb929a",
   "metadata": {},
   "outputs": [
    {
     "name": "stdout",
     "output_type": "stream",
     "text": [
      "Vertically Stacked Array:\n",
      " [[1 2 3]\n",
      " [4 5 6]]\n"
     ]
    }
   ],
   "source": [
    "# Creating two arrays\n",
    "arr1 = np.array([1, 2, 3])\n",
    "arr2 = np.array([4, 5, 6])\n",
    "\n",
    "# Vertically stacking the arrays\n",
    "vstacked_arr = np.vstack((arr1, arr2))\n",
    "print(\"Vertically Stacked Array:\\n\", vstacked_arr)"
   ]
  },
  {
   "cell_type": "markdown",
   "id": "c3ab3ec7",
   "metadata": {},
   "source": [
    "In this example, we vertically stack the two 1D arrays `arr1` and `arr2`, resulting in a 2D array.\n",
    "\n",
    "These array combining functions provide flexibility in combining arrays based on your desired axis and dimensions. They are useful when you need stack arrays to form larger structures or perform operations that require combined arrays."
   ]
  },
  {
   "cell_type": "markdown",
   "id": "35af2d5f",
   "metadata": {},
   "source": [
    "#### Splitting arrays using `np.split()`\n",
    "The `np.split()` function allows you to split an array into multiple sub-arrays along a specified axis. Here's an example:"
   ]
  },
  {
   "cell_type": "code",
   "execution_count": 95,
   "id": "5453c3e3",
   "metadata": {},
   "outputs": [
    {
     "name": "stdout",
     "output_type": "stream",
     "text": [
      "Split Array: [array([1, 2]), array([3, 4]), array([5, 6])]\n"
     ]
    }
   ],
   "source": [
    "# Creating a 1D array\n",
    "arr1d = np.array([1, 2, 3, 4, 5, 6])\n",
    "\n",
    "# Splitting the array into three equally sized sub-arrays\n",
    "split_arr = np.split(arr1d, 3)\n",
    "print(\"Split Array:\", split_arr)"
   ]
  },
  {
   "cell_type": "markdown",
   "id": "8e09c3c8",
   "metadata": {},
   "source": [
    "In this example, we split the 1D array `arr1d` into three equal-sized sub-arrays.\n",
    "\n",
    "These array transformation functions allow you to manipulate and restructure arrays to meet the requirements of your machine learning or data analysis tasks. They provide flexibility in reshaping, transposing, concatenating, and splitting arrays based on your specific needs."
   ]
  },
  {
   "cell_type": "code",
   "execution_count": null,
   "id": "698ecaba",
   "metadata": {},
   "outputs": [],
   "source": []
  },
  {
   "cell_type": "markdown",
   "id": "fc7929f4",
   "metadata": {},
   "source": [
    "\n",
    "# [Table of Content](#0)"
   ]
  },
  {
   "cell_type": "code",
   "execution_count": null,
   "id": "0bd7c45c",
   "metadata": {},
   "outputs": [],
   "source": []
  }
 ],
 "metadata": {
  "kernelspec": {
   "display_name": "Python 3 (ipykernel)",
   "language": "python",
   "name": "python3"
  },
  "language_info": {
   "codemirror_mode": {
    "name": "ipython",
    "version": 3
   },
   "file_extension": ".py",
   "mimetype": "text/x-python",
   "name": "python",
   "nbconvert_exporter": "python",
   "pygments_lexer": "ipython3",
   "version": "3.10.10"
  }
 },
 "nbformat": 4,
 "nbformat_minor": 5
}
