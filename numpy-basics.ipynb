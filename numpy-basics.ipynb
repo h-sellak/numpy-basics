{
 "cells": [
  {
   "cell_type": "markdown",
   "id": "991eb26a",
   "metadata": {},
   "source": [
    "## Table of Content\n",
    "\n",
    "- [1. Introduction to Numpy](#1)\n",
    "    - [1.1. What is Numpy and why it is essential for machine learning?](#1-1)\n",
    "    - [1.2. Installing Numpy and setting up the development environment](#1-2)\n",
    "- [2. Numpy Arrays](#2)\n",
    "    - [2.1. Creating Numpy arrays using np.array()](#2-1)\n",
    "    - [2.2. Understanding array shapes and dimensions](#2-2)\n",
    "    - [2.3. Analogy between Numpy arrays and mathematical data structures](#2-3)\n",
    "    - [2.4. Accessing and modifying array elements](#2-4)\n",
    "    - [2.5. Basic array operations (element-wise operations, broadcasting)](#2-5)\n",
    "    - [2.6. Array indexing and slicing](#2-6)\n",
    "\n",
    "\n",
    "\n",
    "\n",
    "\n",
    "\n",
    "    \n",
    "    "
   ]
  },
  {
   "cell_type": "markdown",
   "id": "3427ef1a",
   "metadata": {},
   "source": [
    "<a name='1'></a>\n",
    "# 1. Introduction to Numpy"
   ]
  },
  {
   "cell_type": "markdown",
   "id": "29e3d673",
   "metadata": {},
   "source": [
    "<a name='1-1'></a>\n",
    "## 1.1. What is Numpy and why it is essential for machine learning?\n",
    "\n",
    "`Numpy` is a powerful Python library that stands for _'Numerical Python'_. It provides support for large, multi-dimensional arrays and matrices, along with a vast collection of mathematical functions to operate on these arrays efficiently. \n",
    "\n",
    "`Numpy` is essential for machine learning because it enables fast and efficient numerical computations, making it possible to work with large datasets and perform complex mathematical operations with ease. Its ability to handle arrays and matrices efficiently allows for concise and optimized code implementations of various machine learning algorithms."
   ]
  },
  {
   "cell_type": "markdown",
   "id": "c0389d45",
   "metadata": {},
   "source": [
    "<a name='1-2'></a>\n",
    "## 1.2. Installing Numpy and setting up the development environment\n",
    "\n",
    "To get started with `Numpy`, we first need to install the library and set up our development environment. Follow the steps below to install `Numpy` and set up a Jupyter notebook:\n",
    "\n",
    "### Step 1: Install Numpy\n",
    "\n",
    "1. Open your command prompt or terminal (e.g., Press Command + Space Bar on your Mac keyboard and Type in “Terminal\").\n",
    "2. If you have Python installed, you can install `Numpy` by running the following command:\n",
    "`pip install numpy`. This command will download and install `Numpy` from the Python Package Index (PyPI).\n",
    "\n",
    "### Step 2: Set up Jupyter Notebook\n",
    "\n",
    "Jupyter Notebook is an interactive coding environment that allows you to create and share documents containing code, visualizations, and explanatory text. Here's how to set it up:\n",
    "\n",
    "1. Install Jupyter Notebook by running the following command in your command prompt or terminal: `pip install jupyter`\n",
    "2. Launch Jupyter Notebook by typing the following command and pressing Enter: `jupyter notebook`. This will open Jupyter Notebook in your default web browser.\n",
    "3. In the Jupyter Notebook interface, click on \"New\" and select \"Python 3\" to create a new Python notebook.\n",
    "\n",
    "### Step 3: Importing Numpy\n",
    "\n",
    "In your Jupyter notebook, you need to import the `Numpy` library before using its functions and features. To import Numpy, add the following line of code at the beginning of your notebook:\n",
    "\n",
    "```python\n",
    "`import numpy as np`\n",
    "\n",
    "**Note:** By convention, `Numpy` is often imported with the alias `np`, which allows us to use the shorthand notation `np` when referring to `Numpy` functions throughout our notebook.\n",
    "\n",
    "That's it! You have successfully installed `Numpy` and set up your Jupyter notebook environment. Now, you're ready to dive into the basics of `Numpy` and explore its powerful capabilities for machine learning."
   ]
  },
  {
   "cell_type": "markdown",
   "id": "9cd6ea23",
   "metadata": {},
   "source": [
    "<a name='2'></a>\n",
    "# 2. Numpy Arrays"
   ]
  },
  {
   "cell_type": "markdown",
   "id": "59833e11",
   "metadata": {},
   "source": [
    "`Numpy` arrays are the foundation of the `Numpy` library and provide a powerful way to store and manipulate data. In this section, we will explore various aspects of `Numpy` arrays, starting with creating arrays using the `np.array()` function."
   ]
  },
  {
   "cell_type": "markdown",
   "id": "e35a2f92",
   "metadata": {},
   "source": [
    "<a name='2-1'></a>\n",
    "### 2.1. Creating Numpy arrays using np.array()\n",
    "\n",
    "To create a `Numpy` array, you can use the `np.array()` function and provide a Python list or tuple as an argument. The `np.array()` function converts the input into a Numpy array. Here's an example:"
   ]
  },
  {
   "cell_type": "code",
   "execution_count": 10,
   "id": "f9101da9",
   "metadata": {},
   "outputs": [
    {
     "name": "stdout",
     "output_type": "stream",
     "text": [
      "[1 2 3 4 5]\n"
     ]
    }
   ],
   "source": [
    "# Create a Numpy array from a Python list\n",
    "my_list = [1, 2, 3, 4, 5]\n",
    "my_array = np.array(my_list)\n",
    "\n",
    "print(my_array)"
   ]
  },
  {
   "cell_type": "markdown",
   "id": "865b4e84",
   "metadata": {},
   "source": [
    "In the example above, we created a `Numpy` array `my_array` from a Python list `my_list` using the `np.array()` function. The resulting `Numpy` array contains the same elements as the original list.\n",
    "\n",
    "`Numpy` arrays are homogeneous, meaning they can only contain elements of the same data type. If the elements in the input list have different data types, Numpy will attempt to convert them to a common data type. For example:"
   ]
  },
  {
   "cell_type": "code",
   "execution_count": 11,
   "id": "802a811d",
   "metadata": {},
   "outputs": [
    {
     "name": "stdout",
     "output_type": "stream",
     "text": [
      "['1' '2.5' 'hello' 'True']\n"
     ]
    }
   ],
   "source": [
    "my_list = [1, 2.5, \"hello\", True]\n",
    "my_array = np.array(my_list)\n",
    "\n",
    "print(my_array)"
   ]
  },
  {
   "cell_type": "markdown",
   "id": "ce5ad79b",
   "metadata": {},
   "source": [
    "In this case, the elements in the input list have different data types (integer, float, string, and a boolean). `Numpy` converts all the elements to strings, resulting in a `Numpy` array of strings.\n",
    "\n",
    "It's important to note that `Numpy` arrays are fixed in size once created. If you try to append or remove elements from a Numpy array, a new array will be created with the updated elements. Therefore, Numpy arrays are not designed to be dynamically resizable like Python lists.\n",
    "\n",
    "That's it for creating `Numpy` arrays using the `np.array()` function."
   ]
  },
  {
   "cell_type": "markdown",
   "id": "4cf64c90",
   "metadata": {},
   "source": [
    "<a name='2-2'></a>\n",
    "### 2.2. Understanding array shapes and dimensions"
   ]
  },
  {
   "cell_type": "markdown",
   "id": "58888b16",
   "metadata": {},
   "source": [
    "`Numpy` arrays can have different shapes and dimensions, which define the structure and size of the array. In this subsection, we will explore how to determine the shape and dimensions of a `Numpy` array."
   ]
  },
  {
   "cell_type": "markdown",
   "id": "576ce770",
   "metadata": {},
   "source": [
    "#### Shape of an Array\n",
    "\n",
    "The shape of a `Numpy` array refers to the number of elements along each dimension of the array. You can access the shape of an array using the `shape` attribute. Here's an example:"
   ]
  },
  {
   "cell_type": "code",
   "execution_count": 12,
   "id": "6ea3e466",
   "metadata": {},
   "outputs": [
    {
     "name": "stdout",
     "output_type": "stream",
     "text": [
      "(2, 3)\n"
     ]
    }
   ],
   "source": [
    "my_array = np.array([[1, 2, 3], [4, 5, 6]])\n",
    "print(my_array.shape)"
   ]
  },
  {
   "cell_type": "markdown",
   "id": "70060e81",
   "metadata": {},
   "source": [
    "In this example, my_array is a **2-dimensional** array with 2 rows and 3 columns. The shape attribute returns a tuple `(2, 3)` indicating the shape of the array.\n",
    "\n",
    "If you have a **1-dimensional** array, the shape will be a single number representing the size of the array. For example:"
   ]
  },
  {
   "cell_type": "code",
   "execution_count": 13,
   "id": "381ded4a",
   "metadata": {},
   "outputs": [
    {
     "name": "stdout",
     "output_type": "stream",
     "text": [
      "(5,)\n"
     ]
    }
   ],
   "source": [
    "my_array = np.array([1, 2, 3, 4, 5])\n",
    "print(my_array.shape)"
   ]
  },
  {
   "cell_type": "markdown",
   "id": "2cc29e4a",
   "metadata": {},
   "source": [
    "In this case, `my_array` is a **1-dimensional** array with 5 elements. The `shape` attribute returns a tuple `(5,)` indicating the shape of the array. \n",
    "\n",
    "Here's an example of a **3-dimensional** array:"
   ]
  },
  {
   "cell_type": "code",
   "execution_count": 15,
   "id": "99aa2d80",
   "metadata": {},
   "outputs": [
    {
     "name": "stdout",
     "output_type": "stream",
     "text": [
      "(3, 3, 3)\n"
     ]
    }
   ],
   "source": [
    "my_array = np.array([ [[1, 2, 3], [4, 5, 6], [7, 8, 9]], [[1, 2, 3], [4, 5, 6], [7, 8, 9]], [[1, 2, 3], [4, 5, 6], [7, 8, 9]] ])\n",
    "print(my_array.shape)"
   ]
  },
  {
   "cell_type": "markdown",
   "id": "3caa91f3",
   "metadata": {},
   "source": [
    "#### Dimensions of an Array\n",
    "\n",
    "The dimensions of a `Numpy` array refer to the number of axes or dimensions it has. You can determine the number of dimensions using the `ndim` attribute. Here's an example:"
   ]
  },
  {
   "cell_type": "code",
   "execution_count": 16,
   "id": "0af3caf8",
   "metadata": {},
   "outputs": [
    {
     "name": "stdout",
     "output_type": "stream",
     "text": [
      "2\n"
     ]
    }
   ],
   "source": [
    "my_array = np.array([[1, 2, 3], [4, 5, 6]])\n",
    "print(my_array.ndim)"
   ]
  },
  {
   "cell_type": "markdown",
   "id": "c4f58602",
   "metadata": {},
   "source": [
    "In this example, `my_array` is a **2-dimensional** array, so the `ndim` attribute returns `2`.\n",
    "\n",
    "If you have a **1-dimensional** array, the `ndim` attribute will return `1`. For example:"
   ]
  },
  {
   "cell_type": "code",
   "execution_count": 17,
   "id": "d70878a3",
   "metadata": {},
   "outputs": [
    {
     "name": "stdout",
     "output_type": "stream",
     "text": [
      "1\n"
     ]
    }
   ],
   "source": [
    "my_array = np.array([1, 2, 3, 4, 5])\n",
    "print(my_array.ndim)"
   ]
  },
  {
   "cell_type": "markdown",
   "id": "0ca9da39",
   "metadata": {},
   "source": [
    "Understanding the shape and dimensions of a `Numpy` array is crucial when working with multi-dimensional arrays, as it helps you correctly access and manipulate the array elements."
   ]
  },
  {
   "cell_type": "markdown",
   "id": "749021b2",
   "metadata": {},
   "source": [
    "<a name='2-3'></a>\n",
    "### 2.3. Analogy between Numpy arrays and mathematical data structures"
   ]
  },
  {
   "cell_type": "markdown",
   "id": "9b0145df",
   "metadata": {},
   "source": [
    "`Numpy` arrays can be thought of as multi-dimensional counterparts to **basic mathematical data structures** such as **scalars**, **vectors**, and **matrices**. Here's an analogy to help you understand this relationship:\n",
    "\n",
    "1. **Scalars:**\n",
    "- In mathematics, a scalar is a single numerical value, representing magnitude but not direction.\n",
    "- In `Numpy`, a scalar is the simplest form of an array, with zero dimensions. It represents a single value.\n",
    "- Analogously, a `Numpy` scalar can be seen as the equivalent of a scalar in mathematics.\n",
    "\n",
    "2. Vectors:\n",
    "- In mathematics, a vector is a one-dimensional array of values, with both magnitude and direction.\n",
    "- In `Numpy`, a one-dimensional array represents a vector.\n",
    "- Analogously, a `Numpy` one-dimensional array can be seen as the equivalent of a vector in mathematics.\n",
    "\n",
    "3. Matrices:\n",
    "- In mathematics, a matrix is a two-dimensional array of values, arranged in rows and columns.\n",
    "- In `Numpy`, a two-dimensional array represents a matrix.\n",
    "- Analogously, a `Numpy` two-dimensional array can be seen as the equivalent of a matrix in mathematics.\n",
    "\n",
    "4. n-dimensional arrays:\n",
    "- In mathematics, higher-dimensional arrays can be thought of as extensions of vectors and matrices.\n",
    "- In `Numpy`, n-dimensional arrays represent arrays with more than two dimensions.\n",
    "- Analogously, a `Numpy` n-dimensional array can be seen as the extension of vectors and matrices to higher dimensions.\n",
    "\n",
    "By leveraging the power of n-dimensional arrays, `Numpy` provides a versatile framework for handling and manipulating data in various dimensions, making it well-suited for tasks in **machine learning** and **scientific computing**.\n",
    "\n",
    "**Note:** It's important to note that while the analogy helps in understanding the relationship between `Numpy` arrays and mathematical data structures, `Numpy` arrays also have additional capabilities and functionalities specific to array operations, broadcasting, and other numerical computations."
   ]
  },
  {
   "cell_type": "markdown",
   "id": "08d25eb9",
   "metadata": {},
   "source": [
    "<a name='2-4'></a>\n",
    "### 2.4. Accessing and modifying array elements"
   ]
  },
  {
   "cell_type": "markdown",
   "id": "165ae40d",
   "metadata": {},
   "source": [
    "`Numpy` arrays provide convenient ways to access and modify individual elements or subsets of elements within the array."
   ]
  },
  {
   "cell_type": "markdown",
   "id": "efa83cd7",
   "metadata": {},
   "source": [
    "#### Accessing Array Elements\n",
    "\n",
    "You can access specific elements in a `Numpy` array using indexing. `Numpy` arrays are zero-indexed, which means the first element has an index of `0`. Here are a few examples:"
   ]
  },
  {
   "cell_type": "code",
   "execution_count": 21,
   "id": "c2241a10",
   "metadata": {},
   "outputs": [
    {
     "name": "stdout",
     "output_type": "stream",
     "text": [
      "1\n",
      "3\n",
      "5\n"
     ]
    }
   ],
   "source": [
    "my_array = np.array([1, 2, 3, 4, 5])\n",
    "\n",
    "# Access the first element\n",
    "print(my_array[0])  # Output: 1\n",
    "\n",
    "# Access the third element\n",
    "print(my_array[2])  # Output: 3\n",
    "\n",
    "# Access the last element\n",
    "print(my_array[-1])  # Output: 5"
   ]
  },
  {
   "cell_type": "markdown",
   "id": "8fe11d28",
   "metadata": {},
   "source": [
    "In this example, `my_array` is a **1-dimensional** array. We use square brackets `[]` with the desired index to access specific elements. Negative indices can be used to access elements from the end of the array.\n",
    "\n",
    "For multi-dimensional arrays, you can use multiple indices to access elements in different dimensions. Here's an example with a **2-dimensional** array:"
   ]
  },
  {
   "cell_type": "code",
   "execution_count": 25,
   "id": "097d4085",
   "metadata": {},
   "outputs": [
    {
     "name": "stdout",
     "output_type": "stream",
     "text": [
      "2\n",
      "6\n"
     ]
    }
   ],
   "source": [
    "my_array = np.array([[1, 2, 3], [4, 5, 6]])\n",
    "\n",
    "# Access the element at row 0, column 1\n",
    "print(my_array[0, 1])  # Output: 2\n",
    "\n",
    "# Access the element at row 1, column 2\n",
    "print(my_array[1, 2])  # Output: 6"
   ]
  },
  {
   "cell_type": "markdown",
   "id": "91e7ced0",
   "metadata": {},
   "source": [
    "In this case, `my_array` is a **2-dimensional** array. We use comma-separated indices within the square brackets to access specific elements based on their row and column positions."
   ]
  },
  {
   "cell_type": "markdown",
   "id": "56188f38",
   "metadata": {},
   "source": [
    "#### Modifying Array Elements\n",
    "\n",
    "`Numpy` arrays allow you to modify individual elements or subsets of elements by assigning new values. Here are a few examples:"
   ]
  },
  {
   "cell_type": "code",
   "execution_count": 29,
   "id": "49fdfac9",
   "metadata": {},
   "outputs": [
    {
     "name": "stdout",
     "output_type": "stream",
     "text": [
      "[ 1 10  3  4  5]\n",
      "[ 1 10 20 30 40]\n"
     ]
    }
   ],
   "source": [
    "my_array = np.array([1, 2, 3, 4, 5])\n",
    "\n",
    "# Modify the second element\n",
    "my_array[1] = 10\n",
    "print(my_array)  # Output: [1, 10, 3, 4, 5]\n",
    "\n",
    "# Modify a subset of elements (from the third element to the last element)\n",
    "my_array[2:] = [20, 30, 40]\n",
    "print(my_array)  # Output: [1, 10, 20, 30, 40]"
   ]
  },
  {
   "cell_type": "markdown",
   "id": "b2a1d067",
   "metadata": {},
   "source": [
    "In this example, we first modify the second element of `my_array` by assigning a new value. Then, we modify a subset of elements from index 2 to 4 (inclusive) by assigning a new list of values.\n",
    "\n",
    "For multi-dimensional arrays, you can modify elements in a similar way using indexing. Here's an example:"
   ]
  },
  {
   "cell_type": "code",
   "execution_count": 30,
   "id": "59c76f1b",
   "metadata": {},
   "outputs": [
    {
     "name": "stdout",
     "output_type": "stream",
     "text": [
      "[[ 1  2  3]\n",
      " [10  5  6]]\n"
     ]
    }
   ],
   "source": [
    "my_array = np.array([[1, 2, 3], [4, 5, 6]])\n",
    "\n",
    "# Modify the element at row 1, column 0\n",
    "my_array[1, 0] = 10\n",
    "print(my_array)"
   ]
  },
  {
   "cell_type": "markdown",
   "id": "1f1caa16",
   "metadata": {},
   "source": [
    "In this case, we modify the element at row `1` and column `0` by assigning a new value.\n",
    "\n",
    "Understanding how to access and modify array elements is fundamental when working with Numpy arrays, as it allows you to extract and update the data within the arrays based on your specific needs."
   ]
  },
  {
   "cell_type": "markdown",
   "id": "824c074c",
   "metadata": {},
   "source": [
    "<a name='2-5'></a>\n",
    "### 2.5. Basic array operations (element-wise operations, broadcasting)"
   ]
  },
  {
   "cell_type": "markdown",
   "id": "9b253746",
   "metadata": {},
   "source": [
    "`Numpy` arrays support various basic operations that can be performed element-wise on the arrays. These operations include arithmetic operations, mathematical functions, and logical operations. In this subsection, we will explore how to perform element-wise operations and utilize broadcasting in `Numpy`."
   ]
  },
  {
   "cell_type": "markdown",
   "id": "c8a37a61",
   "metadata": {},
   "source": [
    "#### Element-wise Operations\n",
    "\n",
    "Element-wise operations allow you to perform arithmetic operations or apply mathematical functions to each element in a `Numpy` array independently. Here are a few examples:"
   ]
  },
  {
   "cell_type": "code",
   "execution_count": 33,
   "id": "c7274b4e",
   "metadata": {},
   "outputs": [
    {
     "name": "stdout",
     "output_type": "stream",
     "text": [
      "[3 4 5 6 7]\n",
      "[-1  0  1  2  3]\n",
      "[ 2  4  6  8 10]\n",
      "[0.5 1.  1.5 2.  2.5]\n",
      "[ 1  4  9 16 25]\n"
     ]
    }
   ],
   "source": [
    "my_array = np.array([1, 2, 3, 4, 5])\n",
    "\n",
    "# Addition\n",
    "result_add = my_array + 2\n",
    "print(result_add)  # Output: [3, 4, 5, 6, 7]\n",
    "\n",
    "# Subtraction\n",
    "result_subtract = my_array - 2\n",
    "print(result_subtract)  # Output: [-1, 0, 1, 2, 3]\n",
    "\n",
    "# Multiplication\n",
    "result_multiply = my_array * 2\n",
    "print(result_multiply)  # Output: [2, 4, 6, 8, 10]\n",
    "\n",
    "# Division\n",
    "result_divide = my_array / 2\n",
    "print(result_divide)  # Output: [0.5, 1.0, 1.5, 2.0, 2.5]\n",
    "\n",
    "# Exponentiation\n",
    "result_power = my_array ** 2\n",
    "print(result_power)  # Output: [1, 4, 9, 16, 25]"
   ]
  },
  {
   "cell_type": "markdown",
   "id": "f45c93bd",
   "metadata": {},
   "source": [
    "In this example, we perform various arithmetic operations (addition, subtraction, multiplication, division, and exponentiation) on `my_array`, resulting in new arrays with the element-wise operation applied.\n",
    "\n",
    "`Numpy` also provides a wide range of mathematical functions that can be applied element-wise to arrays, such as `np.sin()`, `np.cos()`, `np.exp()`, etc. Here's an example:"
   ]
  },
  {
   "cell_type": "code",
   "execution_count": 35,
   "id": "1d84ebe2",
   "metadata": {},
   "outputs": [
    {
     "name": "stdout",
     "output_type": "stream",
     "text": [
      "[0.0000000e+00 1.0000000e+00 1.2246468e-16]\n",
      "[ 1.          4.81047738 23.14069263]\n"
     ]
    }
   ],
   "source": [
    "my_array = np.array([0, np.pi/2, np.pi])\n",
    "\n",
    "# Sine function\n",
    "result_sin = np.sin(my_array)\n",
    "print(result_sin)  # Output: [0.0, 1.0, 1.2246468e-16]\n",
    "\n",
    "# Exponential function\n",
    "result_exp = np.exp(my_array)\n",
    "print(result_exp)  # Output: [ 1., 4.81047738, 23.14069263]"
   ]
  },
  {
   "cell_type": "markdown",
   "id": "0429c7fa",
   "metadata": {},
   "source": [
    "In this case, we apply the `np.sin()` and `np.exp()` functions to `my_array`, resulting in new arrays with the element-wise function applied."
   ]
  },
  {
   "cell_type": "markdown",
   "id": "5eb7eb1b",
   "metadata": {},
   "source": [
    "#### Broadcasting\n",
    "\n",
    "Broadcasting is a powerful feature in `Numpy` that enables operations between arrays of different shapes or dimensions. `Numpy` automatically performs broadcasting when certain conditions are met. Here's an example:"
   ]
  },
  {
   "cell_type": "code",
   "execution_count": 37,
   "id": "1dd5af0f",
   "metadata": {},
   "outputs": [
    {
     "name": "stdout",
     "output_type": "stream",
     "text": [
      "[[ 2  4  6]\n",
      " [ 8 10 12]]\n"
     ]
    }
   ],
   "source": [
    "my_array = np.array([[1, 2, 3], [4, 5, 6]])\n",
    "scalar = 2\n",
    "\n",
    "result_broadcast = my_array * scalar\n",
    "print(result_broadcast)"
   ]
  },
  {
   "cell_type": "markdown",
   "id": "8c0b773e",
   "metadata": {},
   "source": [
    "In this example, we multiply a **2-dimensional** array my_array with a scalar value `scalar`. `Numpy` automatically broadcasts the `scalar` to match the shape of the array, and the element-wise multiplication is performed accordingly.\n",
    "\n",
    "**Broadcasting** allows for concise and efficient code implementation, eliminating the need for explicit loops or repetitions when operating on arrays of different shapes.\n",
    "\n",
    "Understanding and utilizing element-wise operations and broadcasting in `Numpy` are essential when performing mathematical computations and transformations."
   ]
  }
 ],
 "metadata": {
  "kernelspec": {
   "display_name": "Python 3 (ipykernel)",
   "language": "python",
   "name": "python3"
  },
  "language_info": {
   "codemirror_mode": {
    "name": "ipython",
    "version": 3
   },
   "file_extension": ".py",
   "mimetype": "text/x-python",
   "name": "python",
   "nbconvert_exporter": "python",
   "pygments_lexer": "ipython3",
   "version": "3.10.10"
  }
 },
 "nbformat": 4,
 "nbformat_minor": 5
}
